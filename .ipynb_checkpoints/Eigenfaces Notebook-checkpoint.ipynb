{
 "cells": [
  {
   "cell_type": "markdown",
   "metadata": {},
   "source": [
    "# Assignment 1 - EigenFaces"
   ]
  },
  {
   "cell_type": "markdown",
   "metadata": {},
   "source": [
    "## Importing Libraries"
   ]
  },
  {
   "cell_type": "code",
   "execution_count": 1,
   "metadata": {},
   "outputs": [],
   "source": [
    "import numpy as np\n",
    "import pandas as pd\n",
    "import cv2 as cv\n",
    "import glob\n",
    "import matplotlib.pyplot as plt"
   ]
  },
  {
   "cell_type": "code",
   "execution_count": 2,
   "metadata": {},
   "outputs": [],
   "source": [
    "# path if in local \n",
    "path = './archive/s*'\n",
    "\n",
    "# path if in colab\n",
    "# path = '/content/drive/MyDrive/Pattern/eigen-faces/archive/s*'"
   ]
  },
  {
   "cell_type": "markdown",
   "metadata": {},
   "source": [
    "## 1. Download the Dataset and Understand the Format (10 Points)\n",
    "## 2. Generate the Data Matrix and the Label vector (10 Points)"
   ]
  },
  {
   "cell_type": "code",
   "execution_count": 3,
   "metadata": {},
   "outputs": [
    {
     "name": "stdout",
     "output_type": "stream",
     "text": [
      "(400, 10304)\n",
      "(400,)\n"
     ]
    }
   ],
   "source": [
    "N = 10304\n",
    "D = np.ones((1, N))\n",
    "\n",
    "dirs = glob.glob(path)\n",
    "y = np.array([])\n",
    "for i, dir in enumerate(dirs, 1):\n",
    "    for f in glob.glob(dir+\"/*\"):\n",
    "        img = cv.imread(f, 0)\n",
    "        img = np.reshape(img, (1, N))\n",
    "        D = np.append(D, img, axis=0)\n",
    "        y = np.append(y, i)\n",
    "\n",
    "D = D[1:,]  # skip first row (1*N)\n",
    "\n",
    "\n",
    "print(D.shape)\n",
    "y = np.array(y)\n",
    "print(y.shape)"
   ]
  },
  {
   "cell_type": "markdown",
   "metadata": {},
   "source": [
    "## 3. Split the Dataset into Training and Test sets (10 Points)"
   ]
  },
  {
   "cell_type": "code",
   "execution_count": 51,
   "metadata": {},
   "outputs": [],
   "source": [
    "# training => odd\n",
    "# testing => even\n",
    "d_train, d_test = D[1::2], D[0::2]\n",
    "y_train, y_test = y[1::2], y[0::2]\n"
   ]
  },
  {
   "cell_type": "markdown",
   "metadata": {},
   "source": [
    "## 4. Classification using PCA (30 points)"
   ]
  },
  {
   "cell_type": "code",
   "execution_count": 31,
   "metadata": {},
   "outputs": [
    {
     "data": {
      "text/plain": [
       "(200, 10304)"
      ]
     },
     "execution_count": 31,
     "metadata": {},
     "output_type": "execute_result"
    }
   ],
   "source": [
    "d_train.shape"
   ]
  },
  {
   "cell_type": "code",
   "execution_count": 32,
   "metadata": {},
   "outputs": [
    {
     "name": "stdout",
     "output_type": "stream",
     "text": [
      "Mean shape: (1, 10304)\n",
      "Z shape: (200, 10304)\n"
     ]
    }
   ],
   "source": [
    "# compute mean\n",
    "mean = np.mean(d_train,axis=0, keepdims=True)\n",
    "print(\"Mean shape:\", mean.shape)\n",
    "\n",
    "# center data\n",
    "Z = d_train - mean\n",
    "print(\"Z shape:\", Z.shape)\n",
    "\n",
    "# compute covariance matrix\n",
    "cov = np.cov(Z.T, bias=True)\n",
    "\n",
    "# make sure covariance matrix is correct\n",
    "# std = np.std(Z, axis=0)\n",
    "# print(\"Covariance:\", cov)\n",
    "# print(\"Variance of each diagonal:\", std * std)\n",
    "\n",
    "# compute eigenvalues & eigenvectors\n",
    "eival, eivec = np.linalg.eigh(cov)\n",
    "\n",
    "# sort eigenval in descending order & corresponding eigenvec\n",
    "idx = np.argsort(eival)[::-1]\n",
    "eival = eival[idx]\n",
    "eivec = eivec[:,idx]\n",
    "\n",
    "# add eigenvalues until explained variance >= alpha\n",
    "eival_sum = np.sum(eival)"
   ]
  },
  {
   "cell_type": "code",
   "execution_count": 33,
   "metadata": {},
   "outputs": [
    {
     "name": "stdout",
     "output_type": "stream",
     "text": [
      "34\n",
      "49\n",
      "72\n",
      "110\n"
     ]
    }
   ],
   "source": [
    "alphas = [0.8, 0.85, 0.9, 0.95]\n",
    "proj_matrices = []\n",
    "for alpha in alphas:\n",
    "    # nominator of explained variance\n",
    "    exp_var_nom = 0\n",
    "    i = 0\n",
    "    while(round(exp_var_nom/float(eival_sum), 2) < alpha and i < len(eival)-1):\n",
    "        exp_var_nom += eival[i]\n",
    "        i += 1\n",
    "    print(i-1)\n",
    "    proj_matrix = eivec[:, :i] # here we don't need to add 1 to i, since we post increment it\n",
    "    proj_matrices.append(proj_matrix)"
   ]
  },
  {
   "cell_type": "code",
   "execution_count": 4,
   "metadata": {},
   "outputs": [],
   "source": [
    "from sklearn.neighbors import KNeighborsClassifier\n",
    "from sklearn import metrics\n",
    "\n",
    "def classify_knn(data_train, labels_train, data_test, labels_test, k=1):\n",
    "    knn = KNeighborsClassifier(n_neighbors=k)\n",
    "    knn.fit(data_train, labels_train)\n",
    "    \n",
    "    # we can calculate accuracy either way\n",
    "    \n",
    "    # labels_pred = knn.predict(data_test)\n",
    "    #accuracy = metrics.accuracy_score(labels_test, labels_pred)\n",
    "    \n",
    "    accuracy = knn.score(data_test, labels_test)\n",
    "    \n",
    "    return accuracy"
   ]
  },
  {
   "cell_type": "code",
   "execution_count": 35,
   "metadata": {},
   "outputs": [
    {
     "name": "stdout",
     "output_type": "stream",
     "text": [
      "Original accuracy: 0.965\n",
      "Accuracy for each alpha: {0.8: 0.97, 0.85: 0.96, 0.9: 0.96, 0.95: 0.965}\n"
     ]
    }
   ],
   "source": [
    "scores = {}\n",
    "\n",
    "org_accuracy = classify_knn(d_train, y_train, d_test, y_test, k=1)\n",
    "print(\"Original accuracy:\", org_accuracy)\n",
    "\n",
    "for proj_matrix, alpha in zip(proj_matrices, alphas):\n",
    "    d_train_new = np.dot(d_train, proj_matrix)\n",
    "    d_test_new = np.dot(d_test, proj_matrix)\n",
    "    \n",
    "    accuracy = classify_knn(d_train_new, y_train, d_test_new, y_test, k=1)\n",
    "    scores[alpha] = accuracy\n",
    "       \n",
    "print(\"Accuracy for each alpha:\", scores)\n"
   ]
  },
  {
   "cell_type": "markdown",
   "metadata": {},
   "source": [
    "## 5. Classification using LDA (30 points)"
   ]
  },
  {
   "cell_type": "code",
   "execution_count": 36,
   "metadata": {},
   "outputs": [],
   "source": [
    "# calculate class means\n",
    "means = np.ones((40, N))\n",
    "\n",
    "class_matrices = []\n",
    "\n",
    "for i in range(40):\n",
    "    class_matrix = d_train[i*5:(i+1)*5,:]\n",
    "    mean = np.mean(class_matrix, axis=0, keepdims=True)\n",
    "    means[i] = mean\n",
    "    class_matrices.append(class_matrix)\n",
    "\n",
    "overall_mean = np.mean(d_train, axis=0, keepdims=True)\n",
    "#print(means)"
   ]
  },
  {
   "cell_type": "code",
   "execution_count": 37,
   "metadata": {},
   "outputs": [],
   "source": [
    "# calculate between-class scatter matrix\n",
    "nk = 5\n",
    "Sb = np.zeros((N, N))\n",
    "for i, mean in enumerate(means):\n",
    "    mean = mean.reshape(N, 1)\n",
    "    overall_mean = overall_mean.reshape(N, 1)\n",
    "    Sb += nk * np.dot((mean - overall_mean), (mean - overall_mean).T)"
   ]
  },
  {
   "cell_type": "code",
   "execution_count": 38,
   "metadata": {},
   "outputs": [],
   "source": [
    "# calculate center class matrics\n",
    "Zs = []\n",
    "for i in range(40):\n",
    "    Z = class_matrices[i] - means[i]\n",
    "    Zs.append(Z)"
   ]
  },
  {
   "cell_type": "code",
   "execution_count": 39,
   "metadata": {},
   "outputs": [
    {
     "name": "stdout",
     "output_type": "stream",
     "text": [
      "(10304, 10304)\n",
      "(39,)\n",
      "(10304, 39)\n"
     ]
    }
   ],
   "source": [
    "Ss = np.zeros((N,N))\n",
    "print(Ss.shape)\n",
    "# calculate class scatter matrices\n",
    "\n",
    "for i in range(40):\n",
    "    Si = np.dot(Zs[i].T,Zs[i])\n",
    "    Ss +=Si\n",
    "Ss_inv = np.linalg.inv(Ss)\n",
    "w, v = np.linalg.eigh(np.dot(Ss_inv,Sb))\n",
    "\n",
    "# using 39 dominant eigen vectors\n",
    "idx = w.argsort()[::-1][:39]\n",
    "w = w[idx]\n",
    "v = v[:,idx]\n",
    "print(w.shape)\n",
    "print(v.shape)\n"
   ]
  },
  {
   "cell_type": "markdown",
   "metadata": {},
   "source": [
    "## 6. Classifier Tuning (20)\n",
    "\n",
    "a. Set the number of neighbors in the K-NN classifier to 1,3,5,7."
   ]
  },
  {
   "cell_type": "markdown",
   "metadata": {},
   "source": [
    "**Tie breaking:**\n",
    "\n",
    "* We left tie breaking to the default sklearn tie breaking strategy of KNeighborsClassifier\n",
    "\n",
    "From the documentation for KNeighborsClassifier:\n",
    "\n",
    "\"Warning: Regarding the Nearest Neighbors algorithms, if it is found that two neighbors, neighbor k+1 and k, have identical distances but but different labels, the results will depend on the ordering of the training data.\"\n",
    "\n",
    "So, in the case of ties, the answer will be the class that happens to appear first in the set of neighbors."
   ]
  },
  {
   "cell_type": "markdown",
   "metadata": {},
   "source": [
    "### 6. 1 PCA Tuning"
   ]
  },
  {
   "cell_type": "code",
   "execution_count": 40,
   "metadata": {
    "scrolled": true
   },
   "outputs": [
    {
     "name": "stdout",
     "output_type": "stream",
     "text": [
      "K = 1\n",
      "{0.8: 0.97, 0.85: 0.96, 0.9: 0.96, 0.95: 0.965}\n",
      "\n",
      "\n",
      "K = 3\n",
      "{0.8: 0.91, 0.85: 0.92, 0.9: 0.915, 0.95: 0.91}\n",
      "\n",
      "\n",
      "K = 5\n",
      "{0.8: 0.825, 0.85: 0.82, 0.9: 0.825, 0.95: 0.83}\n",
      "\n",
      "\n",
      "K = 7\n",
      "{0.8: 0.8, 0.85: 0.795, 0.9: 0.77, 0.95: 0.75}\n",
      "\n",
      "\n"
     ]
    }
   ],
   "source": [
    "Ks = [1, 3, 5, 7]\n",
    "\n",
    "scores = {}\n",
    "\n",
    "for k in Ks:\n",
    "    scores_per_k = {}\n",
    "    for proj_matrix, alpha in zip(proj_matrices, alphas):\n",
    "        d_train_new = np.dot(d_train, proj_matrix)\n",
    "        d_test_new = np.dot(d_test, proj_matrix)\n",
    "        accuracy = classify_knn(d_train_new, y_train, d_test_new, y_test, k=k)\n",
    "        scores_per_k[alpha] = accuracy\n",
    "    scores[k] = scores_per_k\n",
    "    print(\"K =\", k)\n",
    "    print(scores[k])\n",
    "    print(\"\\n\")\n"
   ]
  },
  {
   "cell_type": "code",
   "execution_count": 41,
   "metadata": {},
   "outputs": [
    {
     "data": {
      "image/png": "[encoded data removed]",
      "text/plain": [
       "<Figure size 640x480 with 1 Axes>"
      ]
     },
     "metadata": {},
     "output_type": "display_data"
    }
   ],
   "source": [
    "# plotting\n",
    "max_accs = []\n",
    "\n",
    "for k in scores:\n",
    "    max_alpha = max(scores[k])\n",
    "    max_acc = scores[k][max_alpha]\n",
    "    max_accs.append(max_acc)\n",
    "    \n",
    "plt.plot(Ks, max_accs)\n",
    "plt.xlabel(\"Number of Neighbors\")\n",
    "plt.ylabel(\"Accuraccy\")\n",
    "plt.show()"
   ]
  },
  {
   "cell_type": "markdown",
   "metadata": {},
   "source": [
    "### 6.2 LDA Tuning"
   ]
  },
  {
   "cell_type": "code",
   "execution_count": 42,
   "metadata": {
    "scrolled": true
   },
   "outputs": [
    {
     "name": "stdout",
     "output_type": "stream",
     "text": [
      "(200, 39)\n",
      "(200, 39)\n",
      "accuracy: 0.945\n"
     ]
    }
   ],
   "source": [
    "# Ks = [1, 3, 5, 7]\n",
    "def project(x, w):\n",
    "    x = np.asarray(x)\n",
    "    w = np.asarray(w)\n",
    "    \n",
    "    return np.dot(w,x.T).T\n",
    "# print(v.shape)\n",
    "d_train_new = project(d_train,v.T)\n",
    "d_test_new = project(d_test,v.T)\n",
    "print(d_train_new.shape)\n",
    "print(d_test_new.shape)\n",
    "\n",
    "accuracy = classify_knn(d_train_new, y_train, d_test_new, y_test, k=1)\n",
    "print(f\"accuracy: {accuracy}\")"
   ]
  },
  {
   "cell_type": "code",
   "execution_count": 43,
   "metadata": {},
   "outputs": [
    {
     "name": "stdout",
     "output_type": "stream",
     "text": [
      "accuracy: 0.945\n",
      "accuracy: 0.905\n",
      "accuracy: 0.775\n",
      "accuracy: 0.71\n"
     ]
    },
    {
     "data": {
      "text/plain": [
       "{1: 0.945, 3: 0.905, 5: 0.775, 7: 0.71}"
      ]
     },
     "execution_count": 43,
     "metadata": {},
     "output_type": "execute_result"
    }
   ],
   "source": [
    "scores = {}\n",
    "kk = []\n",
    "\n",
    "\n",
    "for k in Ks:\n",
    "    scores_per_k = {}\n",
    "    accuracy = classify_knn(d_train_new, y_train, d_test_new, y_test, k=k)\n",
    "    print(f\"accuracy: {accuracy}\")\n",
    "    scores[k] = accuracy\n",
    "    kk.append(accuracy)\n",
    "scores"
   ]
  },
  {
   "cell_type": "code",
   "execution_count": 44,
   "metadata": {},
   "outputs": [
    {
     "data": {
      "image/png": "[encoded data removed]",
      "text/plain": [
       "<Figure size 640x480 with 1 Axes>"
      ]
     },
     "metadata": {},
     "output_type": "display_data"
    }
   ],
   "source": [
    "plt.plot(Ks,kk)\n",
    "plt.xlabel(\"Number of Neighbors\")\n",
    "plt.ylabel(\"Accuraccy\")\n",
    "plt.show()"
   ]
  },
  {
   "cell_type": "markdown",
   "metadata": {},
   "source": [
    "### Observations:\n",
    "\n",
    "PCA performs better in case where number of samples per class is less. Whereas LDA works better with large dataset having multiple classes; class separability is an important factor while reducing dimensionality."
   ]
  },
  {
   "cell_type": "markdown",
   "metadata": {},
   "source": [
    "## 7. Compare with Non-face images (15 points)"
   ]
  },
  {
   "cell_type": "markdown",
   "metadata": {},
   "source": [
    "### Load Dataset"
   ]
  },
  {
   "cell_type": "code",
   "execution_count": 5,
   "metadata": {},
   "outputs": [
    {
     "name": "stdout",
     "output_type": "stream",
     "text": [
      "(400, 10304)\n",
      "(400, 1)\n"
     ]
    }
   ],
   "source": [
    "# Load non-faces equal in count to faces (200 train, 200 test)\n",
    "# Labels: 1 --> Face, 0 --> Non-face\n",
    "\n",
    "non_face_path = './non_faces' \n",
    "N = 10304\n",
    "d_non = np.ones((1, N))\n",
    "\n",
    "y_non = np.array([])\n",
    "i = 0\n",
    "temp_img = np.array([92, 112])\n",
    "\n",
    "for f in glob.glob(non_face_path+\"/*\"):\n",
    "    if i == 400:\n",
    "        break\n",
    "    img = cv.imread(f, 0)\n",
    "    temp_img = img[:92, :112]\n",
    "    img = temp_img\n",
    "    img = np.reshape(img, (1, N))\n",
    "    d_non = np.append(d_non, img, axis=0)\n",
    "    y_non = np.append(y_non, 0)\n",
    "    i+=1\n",
    "\n",
    "d_non = d_non[1:,]  # skip first row (1*N)\n",
    "\n",
    "\n",
    "print(d_non.shape)\n",
    "y_non = np.expand_dims(np.array(y_non), 1)\n",
    "print(y_non.shape)"
   ]
  },
  {
   "cell_type": "code",
   "execution_count": 12,
   "metadata": {},
   "outputs": [
    {
     "name": "stdout",
     "output_type": "stream",
     "text": [
      "(400, 1)\n"
     ]
    }
   ],
   "source": [
    "y1 = np.ones((400,1))\n",
    "print(y1.shape)"
   ]
  },
  {
   "cell_type": "code",
   "execution_count": 13,
   "metadata": {},
   "outputs": [
    {
     "name": "stdout",
     "output_type": "stream",
     "text": [
      "(400, 10305)\n",
      "(400, 10305)\n",
      "(800, 10305)\n",
      "(800, 10304)\n",
      "(800,)\n"
     ]
    }
   ],
   "source": [
    "# Non-face array w/ labels\n",
    "non_faces = np.append(d_non, y_non, axis=1)\n",
    "faces = np.append(D, y1, axis=1)\n",
    "print(non_faces.shape)\n",
    "print(faces.shape)\n",
    "\n",
    "data = np.append(non_faces, faces, axis=0)\n",
    "print(data.shape)\n",
    "d2 = data[:, :10304]\n",
    "y2 = data[:,10304]\n",
    "\n",
    "print(d2.shape)\n",
    "print(y2.shape)"
   ]
  },
  {
   "cell_type": "code",
   "execution_count": 16,
   "metadata": {},
   "outputs": [
    {
     "name": "stdout",
     "output_type": "stream",
     "text": [
      "(400, 10304)\n"
     ]
    }
   ],
   "source": [
    "# separate into training & testing (one odd, one even)\n",
    "# training => odd\n",
    "# testing => even\n",
    "d2_train, d2_test = d2[1::2], d2[0::2]\n",
    "y2_train, y2_test = y2[1::2], y2[0::2]\n",
    "\n",
    "print(d2_train.shape)"
   ]
  },
  {
   "cell_type": "code",
   "execution_count": 23,
   "metadata": {},
   "outputs": [
    {
     "data": {
      "image/png": "[encoded data removed]",
      "text/plain": [
       "<Figure size 640x480 with 1 Axes>"
      ]
     },
     "metadata": {},
     "output_type": "display_data"
    }
   ],
   "source": [
    "img = d2_train[48]\n",
    "img = np.reshape(img, (92, 112))\n",
    "\n",
    "plt.imshow(img, cmap='gray')\n",
    "plt.show()\n"
   ]
  },
  {
   "cell_type": "markdown",
   "metadata": {},
   "source": [
    "### PCA"
   ]
  },
  {
   "cell_type": "code",
   "execution_count": 18,
   "metadata": {
    "scrolled": true
   },
   "outputs": [
    {
     "name": "stdout",
     "output_type": "stream",
     "text": [
      "Done fitting!\n"
     ]
    }
   ],
   "source": [
    "from PCA import PCA\n",
    "\n",
    "alphas = [0.8, 0.85, 0.9, 0.95]\n",
    "scores = {}\n",
    "pca = PCA()\n",
    "pca._fit(d2_train)\n",
    "print(\"Done fitting!\")"
   ]
  },
  {
   "cell_type": "code",
   "execution_count": 19,
   "metadata": {},
   "outputs": [
    {
     "name": "stdout",
     "output_type": "stream",
     "text": [
      "27\n",
      "28\n",
      "45\n",
      "46\n",
      "77\n",
      "78\n",
      "140\n",
      "141\n"
     ]
    },
    {
     "data": {
      "text/plain": [
       "{0.8: 0.9975, 0.85: 0.9975, 0.9: 0.995, 0.95: 0.9975}"
      ]
     },
     "execution_count": 19,
     "metadata": {},
     "output_type": "execute_result"
    }
   ],
   "source": [
    "for alpha in alphas:\n",
    "    pca.set_alpha(alpha)\n",
    "    pca.fit(d2_train)\n",
    "    d2_train_new = pca.transform(d2_train)\n",
    "    d2_test_new = pca.transform(d2_test)\n",
    "    \n",
    "    accuracy = classify_knn(d2_train_new, y2_train, d2_test_new, y2_test, k=1)\n",
    "    scores[alpha] = accuracy\n",
    "    \n",
    "scores"
   ]
  },
  {
   "cell_type": "markdown",
   "metadata": {},
   "source": [
    "### LDA"
   ]
  },
  {
   "cell_type": "code",
   "execution_count": null,
   "metadata": {},
   "outputs": [],
   "source": []
  },
  {
   "cell_type": "code",
   "execution_count": null,
   "metadata": {},
   "outputs": [],
   "source": []
  },
  {
   "cell_type": "markdown",
   "metadata": {},
   "source": [
    "### Accuracy vs. Number of non-face images"
   ]
  },
  {
   "cell_type": "code",
   "execution_count": null,
   "metadata": {},
   "outputs": [],
   "source": [
    "# Plot the accuracy vs the number of non-face images while fixing \n",
    "# the number of face images.\n",
    "\n",
    "# 50-50 Training so # of training samples = # testing samples\n",
    "\n",
    "# number to try:\n",
    "numbers = [200, 300, 400, 500, 600, 700]\n",
    "datasets_train = {}\n",
    "datasets_test = {}\n",
    "ys_train = {}\n",
    "ys_test = {}\n",
    "\n",
    "# Reload data \n",
    "\n",
    "for num in numbers:\n",
    "    d_non = np.ones((1, N))\n",
    "    y_non = np.array([])\n",
    "    i = 0\n",
    "    temp_img = np.array([92, 112])\n",
    "    for f in glob.glob(non_face_path+\"/*\"):\n",
    "        if i == num:\n",
    "            break\n",
    "        img = cv.imread(f, 0)\n",
    "        temp_img = img[:92, :112]\n",
    "        img = temp_img\n",
    "        img = np.reshape(img, (1, N))\n",
    "        d_non = np.append(d_non, img, axis=0)\n",
    "        y_non = np.append(y_non, 0)\n",
    "        i+=1\n",
    "\n",
    "    d_non = d_non[1:,]  # skip first row (1*N)\n",
    "    y_non = np.expand_dims(np.array(y_non), 1)\n",
    "    y1 = np.ones((400,1))\n",
    "    # put faces & non faces together\n",
    "    non_faces = np.append(d_non, y_non, axis=1)\n",
    "    faces = np.append(D, y1, axis=1)\n",
    "\n",
    "    data = np.append(non_faces, faces, axis=0)\n",
    "    d2 = data[:, :10304]\n",
    "    y2 = data[:,10304]\n",
    "    \n",
    "    d2_train, d2_test = d2[1::2], d2[0::2]\n",
    "    y2_train, y2_test = y2[1::2], y2[0::2]\n",
    "    \n",
    "    datasets_train[num] = d2_train\n",
    "    datasets_test[num] = d2_test\n",
    "    ys_train[num] = y2_train\n",
    "    ys_test[num] = y2_test\n",
    "    \n"
   ]
  },
  {
   "cell_type": "code",
   "execution_count": null,
   "metadata": {},
   "outputs": [],
   "source": [
    "# USE CONSTANT ALPHA FOR PCA = 0.95\n",
    "\n",
    "# PCA\n",
    "\n",
    "alpha = 0.95\n",
    "pca_accuracies = {}\n",
    "lda_accuracies = {}\n",
    "\n",
    "for num in numbers:\n",
    "    d2_train = datasets_train[num]\n",
    "    d2_test = datasets_test[num]\n",
    "    y2_train = ys_train[num]\n",
    "    y2_test =  ys_test[num]\n",
    "    \n",
    "    pca = PCA()\n",
    "    pca._fit(d2_train)\n",
    "    pca.set_alpha(alpha)\n",
    "    pca.fit(d2_train)\n",
    "    d2_train_new = pca.transform(d2_train)\n",
    "    d2_test_new = pca.transform(d2_test)\n",
    "    \n",
    "    accuracy = classify_knn(d2_train_new, y2_train, d2_test_new, y2_test, k=1)\n",
    "    pca_accuracies[num] = accuracy\n",
    "    \n",
    "    \n",
    "    #TODO: CODE LDA \n",
    "    ################\n",
    "    accuracy = None # replace with actual accuracy\n",
    "    lda_accuracies[num] = accuracy\n",
    "\n"
   ]
  },
  {
   "cell_type": "markdown",
   "metadata": {},
   "source": [
    "## 8. Bonus (5 points)"
   ]
  },
  {
   "cell_type": "markdown",
   "metadata": {},
   "source": [
    "### PCA & LDA"
   ]
  },
  {
   "cell_type": "markdown",
   "metadata": {},
   "source": [
    "### Non-faces vs Faces"
   ]
  },
  {
   "cell_type": "code",
   "execution_count": null,
   "metadata": {},
   "outputs": [],
   "source": [
    "# 70-30 Training so # of training samples = 3/7 * # of testing samples\n",
    "# train numbers to try:\n",
    "train_numbers = [200, 250, 300, 350, 400, 450]\n",
    "test_numbers = [85, 107, 128, 150, 171, 192]"
   ]
  },
  {
   "cell_type": "code",
   "execution_count": null,
   "metadata": {},
   "outputs": [],
   "source": []
  }
 ],
 "metadata": {
  "kernelspec": {
   "display_name": "Python 3 (ipykernel)",
   "language": "python",
   "name": "python3"
  },
  "language_info": {
   "codemirror_mode": {
    "name": "ipython",
    "version": 3
   },
   "file_extension": ".py",
   "mimetype": "text/x-python",
   "name": "python",
   "nbconvert_exporter": "python",
   "pygments_lexer": "ipython3",
   "version": "3.8.13"
  },
  "vscode": {
   "interpreter": {
    "hash": "02a8a9cf15ed147647fe14553612a448dff68c01e45681e5fb22f182d64f1055"
   }
  }
 },
 "nbformat": 4,
 "nbformat_minor": 2
}
