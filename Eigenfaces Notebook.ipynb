{
 "cells": [
  {
   "cell_type": "markdown",
   "metadata": {},
   "source": [
    "### Importing Libraries"
   ]
  },
  {
   "cell_type": "code",
   "execution_count": 8,
   "metadata": {},
   "outputs": [],
   "source": [
    "import numpy as np\n",
    "import pandas as pd\n",
    "import cv2 as cv\n",
    "import glob"
   ]
  },
  {
   "cell_type": "code",
   "execution_count": 9,
   "metadata": {},
   "outputs": [],
   "source": [
    "# path if in local \n",
    "path = './archive/s*'\n",
    "\n",
    "# path if in colab\n",
    "# path = '/content/drive/MyDrive/Pattern/eigen-faces/archive/s*'"
   ]
  },
  {
   "cell_type": "markdown",
   "metadata": {},
   "source": [
    "### 1. Download the Dataset and Understand the Format (10 Points)\n",
    "### 2. Generate the Data Matrix and the Label vector (10 Points)"
   ]
  },
  {
   "cell_type": "code",
   "execution_count": 10,
   "metadata": {},
   "outputs": [
    {
     "name": "stdout",
     "output_type": "stream",
     "text": [
      "(400, 10304)\n",
      "(400,)\n"
     ]
    }
   ],
   "source": [
    "N = 10304\n",
    "D = np.ones((1, N))\n",
    "\n",
    "dirs = glob.glob(path)\n",
    "y = np.array([])\n",
    "for i, dir in enumerate(dirs, 1):\n",
    "    for f in glob.glob(dir+\"/*\"):\n",
    "        img = cv.imread(f, -1)\n",
    "        img = np.reshape(img, (1, N))\n",
    "        D = np.append(D, img, axis=0)\n",
    "        y = np.append(y, i)\n",
    "\n",
    "D = D[1:,]  # skip first row (1*N)\n",
    "\n",
    "# from sklearn.preprocessing import StandardScaler\n",
    "\n",
    "# scaler = StandardScaler()\n",
    "# D_scaled = scaler.fit_transform(D)\n",
    "\n",
    "# D = D_scaled\n",
    "print(D.shape)\n",
    "y = np.array(y)\n",
    "print(y.shape)"
   ]
  },
  {
   "cell_type": "markdown",
   "metadata": {},
   "source": [
    "### 3. Split the Dataset into Training and Test sets (10 Points)"
   ]
  },
  {
   "cell_type": "code",
   "execution_count": 6,
   "metadata": {},
   "outputs": [],
   "source": [
    "# training => odd\n",
    "# testing => even\n",
    "d_train, d_test = D[1::2], D[0::2]\n",
    "y_train, y_test = y[1::2], y[0::2]\n"
   ]
  },
  {
   "cell_type": "markdown",
   "metadata": {},
   "source": [
    "### 4. Classification using PCA (30 points)"
   ]
  },
  {
   "cell_type": "code",
   "execution_count": 5,
   "metadata": {},
   "outputs": [
    {
     "data": {
      "text/plain": [
       "(200, 10304)"
      ]
     },
     "execution_count": 5,
     "metadata": {},
     "output_type": "execute_result"
    }
   ],
   "source": [
    "d_train.shape"
   ]
  },
  {
   "cell_type": "code",
   "execution_count": 6,
   "metadata": {},
   "outputs": [
    {
     "name": "stdout",
     "output_type": "stream",
     "text": [
      "Mean shape: (1, 10304)\n",
      "Z shape: (200, 10304)\n"
     ]
    }
   ],
   "source": [
    "# compute mean\n",
    "mean = np.mean(d_train,axis=0, keepdims=True)\n",
    "print(\"Mean shape:\", mean.shape)\n",
    "\n",
    "# center data\n",
    "Z = d_train - mean\n",
    "print(\"Z shape:\", Z.shape)\n",
    "\n",
    "# compute covariance matrix\n",
    "cov = np.cov(Z.T, bias=True)\n",
    "\n",
    "# make sure covariance matrix is correct\n",
    "# std = np.std(Z, axis=0)\n",
    "# print(\"Covariance:\", cov)\n",
    "# print(\"Variance of each diagonal:\", std * std)\n",
    "\n",
    "# compute eigenvalues & eigenvectors\n",
    "eival, eivec = np.linalg.eigh(cov)\n",
    "\n",
    "# sort eigenval in descending order & corresponding eigenvec\n",
    "idx = eival.argsort()[::-1]   \n",
    "eival = eival[idx]\n",
    "new_eivec = eivec[:,idx]\n",
    "\n",
    "# add eigenvalues until explained variance >= alpha\n",
    "eival_sum = np.sum(eival)"
   ]
  },
  {
   "cell_type": "code",
   "execution_count": 7,
   "metadata": {},
   "outputs": [],
   "source": [
    "alphas = [0.8, 0.85, 0.9, 0.95]\n",
    "proj_matrices = []\n",
    "for alpha in alphas:\n",
    "    exp_var = 0\n",
    "    i = 0\n",
    "    while(alpha > exp_var):\n",
    "        exp_var += eival[i] / eival_sum\n",
    "        i += 1\n",
    "    proj_matrix = new_eivec[:, :i]\n",
    "    proj_matrices.append(proj_matrix)"
   ]
  },
  {
   "cell_type": "code",
   "execution_count": 8,
   "metadata": {},
   "outputs": [
    {
     "name": "stdout",
     "output_type": "stream",
     "text": [
      "0.965\n",
      "[0.965, 0.965, 0.96, 0.965]\n"
     ]
    }
   ],
   "source": [
    "from sklearn.neighbors import KNeighborsClassifier\n",
    "\n",
    "scores = []\n",
    "\n",
    "knn_org = KNeighborsClassifier(n_neighbors=1)\n",
    "knn_org.fit(d_train, y_train)\n",
    "score_org = knn_org.score(d_test, y_test)\n",
    "\n",
    "print(score_org)\n",
    "\n",
    "\n",
    "for proj_matrix in proj_matrices:\n",
    "    d_train_new = np.dot(d_train, proj_matrix)\n",
    "    d_test_new = np.dot(d_test, proj_matrix)\n",
    "    knn = KNeighborsClassifier(n_neighbors=1)\n",
    "    knn.fit(d_train_new, y_train)\n",
    "    score = knn.score(d_test_new, y_test)\n",
    "    scores.append(score)\n",
    "       \n",
    "print(scores)\n"
   ]
  },
  {
   "cell_type": "markdown",
   "metadata": {},
   "source": [
    "### 5. Classification using LDA (30 points)"
   ]
  },
  {
   "cell_type": "code",
   "execution_count": 11,
   "metadata": {},
   "outputs": [],
   "source": [
    "# calculate class means\n",
    "means = np.ones((40, N))\n",
    "\n",
    "class_matrices = []\n",
    "\n",
    "for i in range(40):\n",
    "    class_matrix = d_train[i*5:(i+1)*5,:]\n",
    "    mean = np.mean(class_matrix, axis=0, keepdims=True)\n",
    "    means[i] = mean\n",
    "    class_matrices.append(class_matrix)\n",
    "\n",
    "overall_mean = np.mean(d_train, axis=0, keepdims=True)\n",
    "#print(means)"
   ]
  },
  {
   "cell_type": "code",
   "execution_count": 12,
   "metadata": {},
   "outputs": [],
   "source": [
    "# calculate between-class scatter matrix\n",
    "nk = 5\n",
    "Sb = np.zeros((N, N))\n",
    "for i, mean in enumerate(means):\n",
    "    mean = mean.reshape(N, 1)\n",
    "    overall_mean = overall_mean.reshape(N, 1)\n",
    "    Sb += nk * np.dot((mean - overall_mean), (mean - overall_mean).T)"
   ]
  },
  {
   "cell_type": "code",
   "execution_count": 13,
   "metadata": {},
   "outputs": [],
   "source": [
    "# calculate center class matrics\n",
    "Zs = []\n",
    "for i in range(40):\n",
    "    Z = class_matrices[i] - means[i]\n",
    "    Zs.append(Z)"
   ]
  },
  {
   "cell_type": "code",
   "execution_count": null,
   "metadata": {},
   "outputs": [],
   "source": [
    "# calculate class scatter matrices\n",
    "Ss = []\n",
    "for i in range(40):\n",
    "    Si = np.dot(Z)"
   ]
  }
 ],
 "metadata": {
  "kernelspec": {
   "display_name": "Python 3 (ipykernel)",
   "language": "python",
   "name": "python3"
  },
  "language_info": {
   "codemirror_mode": {
    "name": "ipython",
    "version": 3
   },
   "file_extension": ".py",
   "mimetype": "text/x-python",
   "name": "python",
   "nbconvert_exporter": "python",
   "pygments_lexer": "ipython3",
   "version": "3.8.13"
  },
  "vscode": {
   "interpreter": {
    "hash": "02a8a9cf15ed147647fe14553612a448dff68c01e45681e5fb22f182d64f1055"
   }
  }
 },
 "nbformat": 4,
 "nbformat_minor": 2
}
