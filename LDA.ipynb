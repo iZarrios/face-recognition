{
 "cells": [
  {
   "cell_type": "code",
   "execution_count": 1,
   "id": "cc1919e3",
   "metadata": {},
   "outputs": [],
   "source": [
    "import numpy as np"
   ]
  },
  {
   "cell_type": "code",
   "execution_count": 3,
   "id": "098b709b",
   "metadata": {},
   "outputs": [],
   "source": [
    "class LDA():\n",
    "    def __init__(self, n_components=2):\n",
    "        self.n_components = n_components\n",
    "\n",
    "    def fit(self, X, y):\n",
    "        class_labels = np.unique(y)  # should be of size 2\n",
    "\n",
    "        d1 = X[y == class_labels[0]]\n",
    "        d2 = X[y == class_labels[1]]\n",
    "        #         print(f\"D1 shape: {d1.shape}\")\n",
    "        #         print(f\"D2 shape: {d2.shape}\")\n",
    "\n",
    "        mean1 = np.mean(d1, axis=0)\n",
    "        mean2 = np.mean(d2, axis=0)\n",
    "\n",
    "        diff = mean1 - mean2\n",
    "\n",
    "        Sb = np.dot(diff, diff.T)\n",
    "\n",
    "        z1 = d1 - mean1.T\n",
    "        z2 = d2 - mean2.T\n",
    "\n",
    "        s1 = np.dot(z1.T, z1)\n",
    "        s2 = np.dot(z2.T, z2)\n",
    "\n",
    "        Sw = s1 + s2\n",
    "        S_inv = np.linalg.inv(Sw)\n",
    "\n",
    "        eigVal, eigVec = np.linalg.eigh(np.dot(S_inv, Sb))\n",
    "\n",
    "        idxs = np.argsort(eigVal)[::-1]\n",
    "        eigVal = eigVal[idxs]\n",
    "        eigVec = eigVec[idxs]\n",
    "\n",
    "        self.lin_discriminants = eigVec[:39]\n",
    "\n",
    "    def get_lin_discriminants(self):\n",
    "        return self.lin_discriminants\n",
    "\n",
    "    def transform(self, X):\n",
    "        res = np.dot(X, self.lin_discriminants.T)\n",
    "\n",
    "        return res"
   ]
  }
 ],
 "metadata": {
  "kernelspec": {
   "display_name": "Python 3 (ipykernel)",
   "language": "python",
   "name": "python3"
  },
  "language_info": {
   "codemirror_mode": {
    "name": "ipython",
    "version": 3
   },
   "file_extension": ".py",
   "mimetype": "text/x-python",
   "name": "python",
   "nbconvert_exporter": "python",
   "pygments_lexer": "ipython3",
   "version": "3.10.8"
  },
  "vscode": {
   "interpreter": {
    "hash": "0d8697f2502f22d8115241def37717e557af02dbfb7bf30a985c1960297f663e"
   }
  }
 },
 "nbformat": 4,
 "nbformat_minor": 5
}
