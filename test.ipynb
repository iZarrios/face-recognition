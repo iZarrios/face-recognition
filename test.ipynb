{
 "cells": [
  {
   "cell_type": "markdown",
   "metadata": {},
   "source": [
    "### Importing Libraries"
   ]
  },
  {
   "cell_type": "code",
   "execution_count": 2,
   "metadata": {},
   "outputs": [],
   "source": [
    "import numpy as np\n",
    "import pandas as pd\n",
    "import cv2 as cv\n",
    "import glob"
   ]
  },
  {
   "cell_type": "markdown",
   "metadata": {},
   "source": [
    "### 1. Download the Dataset and Understand the Format (10 Points)\n",
    "### 2. Generate the Data Matrix and the Label vector (10 Points)"
   ]
  },
  {
   "cell_type": "code",
   "execution_count": 3,
   "metadata": {},
   "outputs": [
    {
     "name": "stdout",
     "output_type": "stream",
     "text": [
      "(400, 10304)\n",
      "(400,)\n"
     ]
    }
   ],
   "source": [
    "N = 10304\n",
    "D = np.ones((1, N))\n",
    "\n",
    "dirs = glob.glob('./archive/s*')\n",
    "y = []\n",
    "for i, dir in enumerate(dirs, 1):\n",
    "    for f in glob.glob(dir+\"/*\"):\n",
    "        img = cv.imread(f, -1)\n",
    "        img = np.reshape(img, (1, N))\n",
    "        D = np.append(D, img, axis=0)\n",
    "        y.append(i)\n",
    "\n",
    "D = D[1:,]  # skip first row (1*N)\n",
    "\n",
    "# from sklearn.preprocessing import StandardScaler\n",
    "\n",
    "# scaler = StandardScaler()\n",
    "# D_scaled = scaler.fit_transform(D)\n",
    "\n",
    "# D = D_scaled\n",
    "print(D.shape)\n",
    "y = np.array(y)\n",
    "print(y.shape)\n"
   ]
  },
  {
   "cell_type": "markdown",
   "metadata": {},
   "source": [
    "### 3. Split the Dataset into Training and Test sets (10 Points)"
   ]
  },
  {
   "cell_type": "code",
   "execution_count": 4,
   "metadata": {},
   "outputs": [],
   "source": [
    "# training => odd\n",
    "# testing => even\n",
    "d_train, d_test = D[1::2], D[0::2]\n",
    "y_train, y_test = y[1::2], y[0::2]\n"
   ]
  },
  {
   "cell_type": "markdown",
   "metadata": {},
   "source": [
    "### 4. Classification using PCA (30 points)"
   ]
  },
  {
   "cell_type": "code",
   "execution_count": 15,
   "metadata": {},
   "outputs": [
    {
     "name": "stdout",
     "output_type": "stream",
     "text": [
      "(10304,)\n",
      "(10304, 10304)\n",
      "(4,)\n",
      "(10304, 4)\n",
      "920279.865020439\n",
      "[ 0.01750029  0.01763243  0.01734205 ... -0.008951   -0.00955414\n",
      " -0.00935834]\n"
     ]
    }
   ],
   "source": [
    "alpha = {0.8, 0.85, 0.9, 0.95}\n",
    "# maybe we should normalize?\n",
    "mean_vector = np.mean(d_train,axis =0)\n",
    "print(mean_vector.shape)\n",
    "\n",
    "Z = d_train - mean_vector.T\n",
    "\n",
    "cov = np.cov(Z.T,bias=True)\n",
    "import scipy.sparse.linalg\n",
    "print(cov.shape)\n",
    "# w,v = np.linalg.eig(cov)\n",
    "k = 4\n",
    "w,v = scipy.linalg.eigh(cov,eigvals=(N-k,N-1),lower=False)\n",
    "# idxs = np.argsort(w)[::-1]\n",
    "# w = w[idxs]\n",
    "# v = v[idxs]\n",
    "print(w.shape)\n",
    "print(v.shape)\n",
    "print(w[0])\n",
    "print(v[:,0])\n"
   ]
  },
  {
   "cell_type": "code",
   "execution_count": 6,
   "metadata": {},
   "outputs": [
    {
     "ename": "ValueError",
     "evalue": "shapes (200,10304) and (200,) not aligned: 10304 (dim 1) != 200 (dim 0)",
     "output_type": "error",
     "traceback": [
      "\u001b[1;31m---------------------------------------------------------------------------\u001b[0m",
      "\u001b[1;31mValueError\u001b[0m                                Traceback (most recent call last)",
      "Cell \u001b[1;32mIn [6], line 3\u001b[0m\n\u001b[0;32m      1\u001b[0m x \u001b[39m=\u001b[39m np\u001b[39m.\u001b[39mones(N)\n\u001b[0;32m      2\u001b[0m \u001b[39mfor\u001b[39;00m i \u001b[39min\u001b[39;00m \u001b[39mrange\u001b[39m(\u001b[39m5\u001b[39m):\n\u001b[1;32m----> 3\u001b[0m     x \u001b[39m=\u001b[39m np\u001b[39m.\u001b[39;49mdot(Z, x)\n\u001b[0;32m      4\u001b[0m     value \u001b[39m=\u001b[39m np\u001b[39m.\u001b[39mlinalg\u001b[39m.\u001b[39mnorm(x)\n\u001b[0;32m      5\u001b[0m     x \u001b[39m=\u001b[39m x \u001b[39m/\u001b[39m value\n",
      "File \u001b[1;32m<__array_function__ internals>:180\u001b[0m, in \u001b[0;36mdot\u001b[1;34m(*args, **kwargs)\u001b[0m\n",
      "\u001b[1;31mValueError\u001b[0m: shapes (200,10304) and (200,) not aligned: 10304 (dim 1) != 200 (dim 0)"
     ]
    }
   ],
   "source": [
    "# x = np.ones(N)\n",
    "# for i in range(5):\n",
    "#     x = np.dot(Z, x)\n",
    "#     value = np.linalg.norm(x)\n",
    "#     x = x / value\n",
    "# print(\"value\")\n",
    "# print(value)\n",
    "# print(\"vector\")\n",
    "# print(x)\n",
    "# # print(np.reshape(-x, (1, 3)))\n",
    "\n",
    "# def power_method(matA: np.ndarray, vecX: np.ndarray = None, epsilon: float = 1e-7, n_iter_max: int = 100000):\n",
    "#     n = matA.shape[0]\n",
    "\n",
    "#     if vecX is None:\n",
    "#         vecX = np.ones(n)\n",
    "\n",
    "#     for i in range(n_iter_max):\n",
    "\n",
    "#         vecY = matA @ vecX\n",
    "#         print(f\"A @ vecX = {vecY}\")\n",
    "\n",
    "#         lam = abs(vecY).max()\n",
    "#         vecY *= 1.0 / lam\n",
    "\n",
    "#         norm = np.linalg.norm(vecX - vecY)\n",
    "#         if norm < epsilon:\n",
    "#             break\n",
    "\n",
    "#         vecX = vecY\n",
    "\n",
    "#     return lam, vecY, i\n"
   ]
  }
 ],
 "metadata": {
  "kernelspec": {
   "display_name": "Python 3.10.6 64-bit",
   "language": "python",
   "name": "python3"
  },
  "language_info": {
   "codemirror_mode": {
    "name": "ipython",
    "version": 3
   },
   "file_extension": ".py",
   "mimetype": "text/x-python",
   "name": "python",
   "nbconvert_exporter": "python",
   "pygments_lexer": "ipython3",
   "version": "3.10.6"
  },
  "orig_nbformat": 4,
  "vscode": {
   "interpreter": {
    "hash": "02a8a9cf15ed147647fe14553612a448dff68c01e45681e5fb22f182d64f1055"
   }
  }
 },
 "nbformat": 4,
 "nbformat_minor": 2
}
