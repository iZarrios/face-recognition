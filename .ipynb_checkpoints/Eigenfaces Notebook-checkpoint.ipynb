{
 "cells": [
  {
   "cell_type": "markdown",
   "metadata": {},
   "source": [
    "### Importing Libraries"
   ]
  },
  {
   "cell_type": "code",
   "execution_count": 3,
   "metadata": {},
   "outputs": [],
   "source": [
    "import numpy as np\n",
    "import pandas as pd\n",
    "import cv2 as cv\n",
    "import glob"
   ]
  },
  {
   "cell_type": "markdown",
   "metadata": {},
   "source": [
    "### 1. Download the Dataset and Understand the Format (10 Points)\n",
    "### 2. Generate the Data Matrix and the Label vector (10 Points)"
   ]
  },
  {
   "cell_type": "code",
   "execution_count": 4,
   "metadata": {},
   "outputs": [
    {
     "name": "stdout",
     "output_type": "stream",
     "text": [
      "(400, 10304)\n",
      "(400,)\n"
     ]
    }
   ],
   "source": [
    "N = 10304\n",
    "D = np.ones((1, N))\n",
    "\n",
    "dirs = glob.glob('./archive/s*')\n",
    "y = np.array([])\n",
    "for i, dir in enumerate(dirs, 1):\n",
    "    for f in glob.glob(dir+\"/*\"):\n",
    "        img = cv.imread(f, -1)\n",
    "        img = np.reshape(img, (1, N))\n",
    "        D = np.append(D, img, axis=0)\n",
    "        y = np.append(y, i)\n",
    "\n",
    "D = D[1:,]  # skip first row (1*N)\n",
    "\n",
    "# from sklearn.preprocessing import StandardScaler\n",
    "\n",
    "# scaler = StandardScaler()\n",
    "# D_scaled = scaler.fit_transform(D)\n",
    "\n",
    "# D = D_scaled\n",
    "print(D.shape)\n",
    "y = np.array(y)\n",
    "print(y.shape)\n"
   ]
  },
  {
   "cell_type": "markdown",
   "metadata": {},
   "source": [
    "### 3. Split the Dataset into Training and Test sets (10 Points)"
   ]
  },
  {
   "cell_type": "code",
   "execution_count": null,
   "metadata": {},
   "outputs": [],
   "source": [
    "# training => odd\n",
    "# testing => even\n",
    "d_train, d_test = D[1::2], D[0::2]\n",
    "y_train, y_test = y[1::2], y[0::2]\n"
   ]
  },
  {
   "cell_type": "markdown",
   "metadata": {},
   "source": [
    "### 4. Classification using PCA (30 points)"
   ]
  },
  {
   "cell_type": "code",
   "execution_count": null,
   "metadata": {},
   "outputs": [],
   "source": [
    "alpha = {0.8, 0.85, 0.9, 0.95}\n",
    "# maybe we should normalize?\n",
    "mean_vector = np.mean(d_train,axis =0)\n",
    "print(mean_vector.shape)\n",
    "\n",
    "Z = d_train - mean_vector.T\n",
    "\n",
    "cov = np.cov(Z.T,bias=True)\n",
    "import scipy.sparse.linalg\n",
    "print(cov.shape)\n",
    "# w,v = np.linalg.eig(cov)\n",
    "k = 4\n",
    "w,v = scipy.linalg.eigh(cov,eigvals=(N-k,N-1),lower=False)\n",
    "# idxs = np.argsort(w)[::-1]\n",
    "# w = w[idxs]\n",
    "# v = v[idxs]\n",
    "print(w.shape)\n",
    "print(v.shape)\n",
    "print(w[0])\n",
    "print(v[:,0])\n"
   ]
  },
  {
   "cell_type": "code",
   "execution_count": null,
   "metadata": {},
   "outputs": [],
   "source": [
    "d_train.shape"
   ]
  },
  {
   "cell_type": "code",
   "execution_count": null,
   "metadata": {},
   "outputs": [],
   "source": [
    "alphas = [0.8, 0.85, 0.9, 0.95]\n",
    "proj_matrices = []\n",
    "\n",
    "for alpha in alphas:\n",
    "    \n",
    "    # compute mean\n",
    "    mean = np.mean(d_train,axis=0, keepdims=True)\n",
    "    print(\"Mean shape:\", mean.shape)\n",
    "\n",
    "    # center data\n",
    "    Z = d_train - mean\n",
    "    print(\"Z shape:\", Z.shape)\n",
    "\n",
    "    # compute covariance matrix\n",
    "    cov = np.cov(Z.T, bias=True)\n",
    "\n",
    "    # make sure covariance matrix is correct\n",
    "    # std = np.std(Z, axis=0)\n",
    "    # print(\"Covariance:\", cov)\n",
    "    # print(\"Variance of each diagonal:\", std * std)\n",
    "\n",
    "    # compute eigenvalues & eigenvectors\n",
    "    eival, eivec = np.linalg.eigh(cov)\n",
    "\n",
    "    # sort eigenval in descending order & corresponding eigenvec\n",
    "    idx = eival.argsort()[::-1]   \n",
    "    eival = eival[idx]\n",
    "    eivec = eivec[:,idx]\n",
    "\n",
    "    # add eigenvalues until explained variance >= alpha\n",
    "    exp_var = 0\n",
    "    i = 0\n",
    "    eival_sum = np.sum(eival)\n",
    "\n",
    "    while(alpha > exp_var):\n",
    "        exp_var += eival[i] / eival_sum\n",
    "        i += 1\n",
    "\n",
    "    proj_matrix = eivec[:, :i]\n",
    "    proj_matrices.append(proj_matrix)"
   ]
  },
  {
   "cell_type": "code",
   "execution_count": null,
   "metadata": {},
   "outputs": [],
   "source": [
    "from sklearn.neighbors import KNeighborsClassifier\n",
    "\n",
    "scores = []\n",
    "\n",
    "for proj_matrix in proj_matrices:\n",
    "    d_train_new = np.dot(d_train, proj_matrix)\n",
    "    d_test_new = np.dot(d_test, proj_matrix)\n",
    "    knn = KNeighborsClassifier(n_neighbors=1)\n",
    "    knn.fit(d_train, y_train)\n",
    "    score = knn.score(d_test, y_test)\n",
    "    scores.append(score)\n",
    "    \n",
    "    \n",
    "print(scores)\n",
    "    \n",
    "    "
   ]
  }
 ],
 "metadata": {
  "kernelspec": {
   "display_name": "Python 3 (ipykernel)",
   "language": "python",
   "name": "python3"
  },
  "language_info": {
   "codemirror_mode": {
    "name": "ipython",
    "version": 3
   },
   "file_extension": ".py",
   "mimetype": "text/x-python",
   "name": "python",
   "nbconvert_exporter": "python",
   "pygments_lexer": "ipython3",
   "version": "3.8.13"
  },
  "vscode": {
   "interpreter": {
    "hash": "02a8a9cf15ed147647fe14553612a448dff68c01e45681e5fb22f182d64f1055"
   }
  }
 },
 "nbformat": 4,
 "nbformat_minor": 2
}
