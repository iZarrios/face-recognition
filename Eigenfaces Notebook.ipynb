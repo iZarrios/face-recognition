{
 "cells": [
  {
   "cell_type": "markdown",
   "metadata": {},
   "source": [
    "# Assignment 1 - EigenFaces"
   ]
  },
  {
   "cell_type": "markdown",
   "metadata": {},
   "source": [
    "## Importing Libraries"
   ]
  },
  {
   "cell_type": "code",
   "execution_count": 54,
   "metadata": {},
   "outputs": [],
   "source": [
    "import numpy as np\n",
    "import pandas as pd\n",
    "import cv2 as cv\n",
    "import glob\n",
    "import matplotlib.pyplot as plt"
   ]
  },
  {
   "cell_type": "code",
   "execution_count": 2,
   "metadata": {},
   "outputs": [],
   "source": [
    "# path if in local \n",
    "path = './archive/s*'\n",
    "\n",
    "# path if in colab\n",
    "# path = '/content/drive/MyDrive/Pattern/eigen-faces/archive/s*'"
   ]
  },
  {
   "cell_type": "markdown",
   "metadata": {},
   "source": [
    "## 1. Download the Dataset and Understand the Format (10 Points)\n",
    "## 2. Generate the Data Matrix and the Label vector (10 Points)"
   ]
  },
  {
   "cell_type": "code",
   "execution_count": 3,
   "metadata": {},
   "outputs": [
    {
     "name": "stdout",
     "output_type": "stream",
     "text": [
      "(400, 10304)\n",
      "(400,)\n"
     ]
    }
   ],
   "source": [
    "N = 10304\n",
    "D = np.ones((1, N))\n",
    "\n",
    "dirs = glob.glob(path)\n",
    "y = np.array([])\n",
    "for i, dir in enumerate(dirs, 1):\n",
    "    for f in glob.glob(dir+\"/*\"):\n",
    "        img = cv.imread(f, -1)\n",
    "        img = np.reshape(img, (1, N))\n",
    "        D = np.append(D, img, axis=0)\n",
    "        y = np.append(y, i)\n",
    "\n",
    "D = D[1:,]  # skip first row (1*N)\n",
    "\n",
    "# from sklearn.preprocessing import StandardScaler\n",
    "\n",
    "# scaler = StandardScaler()\n",
    "# D_scaled = scaler.fit_transform(D)\n",
    "\n",
    "# D = D_scaled\n",
    "print(D.shape)\n",
    "y = np.array(y)\n",
    "print(y.shape)"
   ]
  },
  {
   "cell_type": "markdown",
   "metadata": {},
   "source": [
    "## 3. Split the Dataset into Training and Test sets (10 Points)"
   ]
  },
  {
   "cell_type": "code",
   "execution_count": 4,
   "metadata": {},
   "outputs": [],
   "source": [
    "# training => odd\n",
    "# testing => even\n",
    "d_train, d_test = D[1::2], D[0::2]\n",
    "y_train, y_test = y[1::2], y[0::2]\n"
   ]
  },
  {
   "cell_type": "markdown",
   "metadata": {},
   "source": [
    "## 4. Classification using PCA (30 points)"
   ]
  },
  {
   "cell_type": "code",
   "execution_count": 5,
   "metadata": {},
   "outputs": [
    {
     "data": {
      "text/plain": [
       "(200, 10304)"
      ]
     },
     "execution_count": 5,
     "metadata": {},
     "output_type": "execute_result"
    }
   ],
   "source": [
    "d_train.shape"
   ]
  },
  {
   "cell_type": "code",
   "execution_count": 17,
   "metadata": {},
   "outputs": [
    {
     "name": "stdout",
     "output_type": "stream",
     "text": [
      "Mean shape: (1, 10304)\n",
      "Z shape: (200, 10304)\n"
     ]
    }
   ],
   "source": [
    "# compute mean\n",
    "mean = np.mean(d_train,axis=0, keepdims=True)\n",
    "print(\"Mean shape:\", mean.shape)\n",
    "\n",
    "# center data\n",
    "Z = d_train - mean\n",
    "print(\"Z shape:\", Z.shape)\n",
    "\n",
    "# compute covariance matrix\n",
    "cov = np.cov(Z.T, bias=True)\n",
    "\n",
    "# make sure covariance matrix is correct\n",
    "# std = np.std(Z, axis=0)\n",
    "# print(\"Covariance:\", cov)\n",
    "# print(\"Variance of each diagonal:\", std * std)\n",
    "\n",
    "# compute eigenvalues & eigenvectors\n",
    "eival, eivec = np.linalg.eigh(cov)\n",
    "\n",
    "# sort eigenval in descending order & corresponding eigenvec\n",
    "idx = np.argsort(eival)[::-1]\n",
    "eival = eival[idx]\n",
    "eivec = eivec[:,idx]\n",
    "\n",
    "# add eigenvalues until explained variance >= alpha\n",
    "eival_sum = np.sum(eival)"
   ]
  },
  {
   "cell_type": "code",
   "execution_count": 36,
   "metadata": {},
   "outputs": [
    {
     "name": "stdout",
     "output_type": "stream",
     "text": [
      "34\n",
      "49\n",
      "72\n",
      "110\n"
     ]
    }
   ],
   "source": [
    "alphas = [0.8, 0.85, 0.9, 0.95]\n",
    "proj_matrices = []\n",
    "for alpha in alphas:\n",
    "    # nominator of explained variance\n",
    "    exp_var_nom = 0\n",
    "    i = 0\n",
    "    while(round(exp_var_nom/float(eival_sum), 2) < alpha and i < len(eival)-1):\n",
    "        exp_var_nom += eival[i]\n",
    "        i += 1\n",
    "    print(i-1)\n",
    "    proj_matrix = eivec[:, :i] # here we don't need to add 1 to i, since we post increment it\n",
    "    proj_matrices.append(proj_matrix)"
   ]
  },
  {
   "cell_type": "code",
   "execution_count": 45,
   "metadata": {},
   "outputs": [],
   "source": [
    "from sklearn.neighbors import KNeighborsClassifier\n",
    "from sklearn import metrics\n",
    "\n",
    "def classify_knn(data_train, labels_train, data_test, labels_test, k=1):\n",
    "    knn = KNeighborsClassifier(n_neighbors=k)\n",
    "    knn.fit(data_train, labels_train)\n",
    "    \n",
    "    # we can calculate accuracy either way\n",
    "    \n",
    "    # labels_pred = knn.predict(data_test)\n",
    "    #accuracy = metrics.accuracy_score(labels_test, labels_pred)\n",
    "    \n",
    "    accuracy = knn.score(data_test, labels_test)\n",
    "    \n",
    "    return accuracy"
   ]
  },
  {
   "cell_type": "code",
   "execution_count": 49,
   "metadata": {},
   "outputs": [
    {
     "name": "stdout",
     "output_type": "stream",
     "text": [
      "Original accuracy: 0.965\n",
      "Accuracy for each alpha: {0.8: 0.97, 0.85: 0.96, 0.9: 0.96, 0.95: 0.965}\n"
     ]
    }
   ],
   "source": [
    "scores = {}\n",
    "\n",
    "org_accuracy = classify_knn(d_train, y_train, d_test, y_test, k=1)\n",
    "print(\"Original accuracy:\", org_accuracy)\n",
    "\n",
    "for proj_matrix, alpha in zip(proj_matrices, alphas):\n",
    "    d_train_new = np.dot(d_train, proj_matrix)\n",
    "    d_test_new = np.dot(d_test, proj_matrix)\n",
    "    \n",
    "    accuracy = classify_knn(d_train_new, y_train, d_test_new, y_test, k=1)\n",
    "    scores[alpha] = accuracy\n",
    "       \n",
    "print(\"Accuracy for each alpha:\", scores)\n"
   ]
  },
  {
   "cell_type": "markdown",
   "metadata": {},
   "source": [
    "## 5. Classification using LDA (30 points)"
   ]
  },
  {
   "cell_type": "code",
   "execution_count": 11,
   "metadata": {},
   "outputs": [],
   "source": [
    "# calculate class means\n",
    "means = np.ones((40, N))\n",
    "\n",
    "class_matrices = []\n",
    "\n",
    "for i in range(40):\n",
    "    class_matrix = d_train[i*5:(i+1)*5,:]\n",
    "    mean = np.mean(class_matrix, axis=0, keepdims=True)\n",
    "    means[i] = mean\n",
    "    class_matrices.append(class_matrix)\n",
    "\n",
    "overall_mean = np.mean(d_train, axis=0, keepdims=True)\n",
    "#print(means)"
   ]
  },
  {
   "cell_type": "code",
   "execution_count": 12,
   "metadata": {},
   "outputs": [],
   "source": [
    "# calculate between-class scatter matrix\n",
    "nk = 5\n",
    "Sb = np.zeros((N, N))\n",
    "for i, mean in enumerate(means):\n",
    "    mean = mean.reshape(N, 1)\n",
    "    overall_mean = overall_mean.reshape(N, 1)\n",
    "    Sb += nk * np.dot((mean - overall_mean), (mean - overall_mean).T)"
   ]
  },
  {
   "cell_type": "code",
   "execution_count": 13,
   "metadata": {},
   "outputs": [],
   "source": [
    "# calculate center class matrics\n",
    "Zs = []\n",
    "for i in range(40):\n",
    "    Z = class_matrices[i] - means[i]\n",
    "    Zs.append(Z)"
   ]
  },
  {
   "cell_type": "code",
   "execution_count": null,
   "metadata": {},
   "outputs": [],
   "source": [
    "# calculate class scatter matrices\n",
    "Ss = []\n",
    "for i in range(40):\n",
    "    Si = np.dot(Z)"
   ]
  },
  {
   "cell_type": "markdown",
   "metadata": {},
   "source": [
    "## 6. Classifier Tuning\n",
    "\n",
    "a. Set the number of neighbors in the K-NN classifier to 1,3,5,7."
   ]
  },
  {
   "cell_type": "markdown",
   "metadata": {},
   "source": [
    "**Tie breaking:**\n",
    "\n",
    "* We left tie breaking to the default sklearn tie breaking strategy of KNeighborsClassifier\n",
    "\n",
    "From the documentation for KNeighborsClassifier:\n",
    "\n",
    "\"Warning: Regarding the Nearest Neighbors algorithms, if it is found that two neighbors, neighbor k+1 and k, have identical distances but but different labels, the results will depend on the ordering of the training data.\"\n",
    "\n",
    "So, in the case of ties, the answer will be the class that happens to appear first in the set of neighbors."
   ]
  },
  {
   "cell_type": "markdown",
   "metadata": {},
   "source": [
    "### 6. 1 PCA Tuning"
   ]
  },
  {
   "cell_type": "code",
   "execution_count": 64,
   "metadata": {},
   "outputs": [
    {
     "name": "stdout",
     "output_type": "stream",
     "text": [
      "K = 1\n",
      "{0.8: 0.97, 0.85: 0.96, 0.9: 0.96, 0.95: 0.965}\n",
      "\n",
      "\n",
      "K = 3\n",
      "{0.8: 0.91, 0.85: 0.92, 0.9: 0.915, 0.95: 0.91}\n",
      "\n",
      "\n",
      "K = 5\n",
      "{0.8: 0.825, 0.85: 0.82, 0.9: 0.825, 0.95: 0.83}\n",
      "\n",
      "\n",
      "K = 7\n",
      "{0.8: 0.8, 0.85: 0.795, 0.9: 0.77, 0.95: 0.75}\n",
      "\n",
      "\n"
     ]
    }
   ],
   "source": [
    "Ks = [1, 3, 5, 7]\n",
    "\n",
    "scores = {}\n",
    "\n",
    "for k in Ks:\n",
    "    scores_per_k = {}\n",
    "    for proj_matrix, alpha in zip(proj_matrices, alphas):\n",
    "        d_train_new = np.dot(d_train, proj_matrix)\n",
    "        d_test_new = np.dot(d_test, proj_matrix)\n",
    "        accuracy = classify_knn(d_train_new, y_train, d_test_new, y_test, k=k)\n",
    "        scores_per_k[alpha] = accuracy\n",
    "    scores[k] = scores_per_k\n",
    "    print(\"K =\", k)\n",
    "    print(scores[k])\n",
    "    print(\"\\n\")\n"
   ]
  },
  {
   "cell_type": "code",
   "execution_count": 67,
   "metadata": {},
   "outputs": [
    {
     "data": {
      "image/png": "[encoded data removed]",
      "text/plain": [
       "<Figure size 640x480 with 1 Axes>"
      ]
     },
     "metadata": {},
     "output_type": "display_data"
    }
   ],
   "source": [
    "# plotting\n",
    "max_accs = []\n",
    "\n",
    "for k in scores:\n",
    "    max_alpha = max(scores[k])\n",
    "    max_acc = scores[k][max_alpha]\n",
    "    max_accs.append(max_acc)\n",
    "    \n",
    "plt.plot(Ks, max_accs)\n",
    "plt.show()"
   ]
  },
  {
   "cell_type": "markdown",
   "metadata": {},
   "source": [
    "### 6.2 LDA Tuning"
   ]
  },
  {
   "cell_type": "code",
   "execution_count": null,
   "metadata": {},
   "outputs": [],
   "source": []
  },
  {
   "cell_type": "markdown",
   "metadata": {},
   "source": []
  }
 ],
 "metadata": {
  "kernelspec": {
   "display_name": "Python 3 (ipykernel)",
   "language": "python",
   "name": "python3"
  },
  "language_info": {
   "codemirror_mode": {
    "name": "ipython",
    "version": 3
   },
   "file_extension": ".py",
   "mimetype": "text/x-python",
   "name": "python",
   "nbconvert_exporter": "python",
   "pygments_lexer": "ipython3",
   "version": "3.8.13"
  },
  "vscode": {
   "interpreter": {
    "hash": "02a8a9cf15ed147647fe14553612a448dff68c01e45681e5fb22f182d64f1055"
   }
  }
 },
 "nbformat": 4,
 "nbformat_minor": 2
}
