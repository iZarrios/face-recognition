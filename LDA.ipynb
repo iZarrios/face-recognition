{
 "cells": [
  {
   "cell_type": "code",
   "execution_count": 1,
   "id": "cc1919e3",
   "metadata": {},
   "outputs": [],
   "source": [
    "import numpy as np"
   ]
  },
  {
   "cell_type": "code",
   "execution_count": 3,
   "id": "098b709b",
   "metadata": {},
   "outputs": [],
   "source": [
    "class LDA():\n",
    "    \n",
    "    def __init__(self,n_components):\n",
    "        self.n_components = n_components\n",
    "        \n",
    "        \n",
    "        \n",
    "    def fit(self,X,y):\n",
    "        n_features = X.shape[1]\n",
    "        \n",
    "        \n",
    "        class_labels = np.unique(y)\n",
    "         \n",
    "        # Sw with in class\n",
    "        # Sb between class\n",
    "        \n",
    "        overall_mean = np.mean(X, axis=0)\n",
    "        \n",
    "        Sw = np.zeros((n_features, n_features))\n",
    "        Sb = np.zeros((n_features, n_features))\n",
    "        \n",
    "        for c in class_labels:\n",
    "            # get all samples with c class\n",
    "            X_c = X[y == c] # c, N\n",
    "            nk = X_c.shape[0] # 5\n",
    "            \n",
    "            mean_c = np.mean(X_c,axis=0, keepdims=True)\n",
    "            \n",
    "            overall_mean = overall_mean.reshape(n_features, 1)\n",
    "            \n",
    "            Sb += nk * np.dot((mean_c - overall_mean), (mean_c - overall_mean).T)\n",
    "            \n",
    "            # N,c . c,N\n",
    "            Sw += np.dot((X_c - mean_c).T, (X_c - mean_c)) # N, N\n",
    "        Sw_inv = np.linalg.inv(Sw)\n",
    "        \n",
    "        eigVal, eigVec = np.linalg.eigh(np.dot(Sw_inv,Sb))\n",
    "        eigVal = eigVal[::-1]\n",
    "        eigVec = eigVec[::-1]\n",
    "        \n",
    "        eigVec = eigVec.T        \n",
    "        self.lin_discriminants = eigVec[:self.n_components]\n",
    "    \n",
    "    def get_lin_discriminants(self):\n",
    "        return self.lin_discriminants\n",
    "        \n",
    "    def transform(self,X):\n",
    "        res = np.dot(X, self.lin_discriminants.T)\n",
    "        \n",
    "        return res"
   ]
  }
 ],
 "metadata": {
  "kernelspec": {
   "display_name": "Python 3 (ipykernel)",
   "language": "python",
   "name": "python3"
  },
  "language_info": {
   "codemirror_mode": {
    "name": "ipython",
    "version": 3
   },
   "file_extension": ".py",
   "mimetype": "text/x-python",
   "name": "python",
   "nbconvert_exporter": "python",
   "pygments_lexer": "ipython3",
   "version": "3.9.13"
  }
 },
 "nbformat": 4,
 "nbformat_minor": 5
}
