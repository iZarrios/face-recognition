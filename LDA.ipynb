{
 "cells": [
  {
   "cell_type": "code",
   "execution_count": 1,
   "id": "cc1919e3",
   "metadata": {},
   "outputs": [],
   "source": [
    "import numpy as np"
   ]
  },
  {
   "cell_type": "code",
   "execution_count": 3,
   "id": "098b709b",
   "metadata": {},
   "outputs": [],
   "source": [
    "class LDA():\n",
    "\n",
    "    def __init__(self, n_components=2):\n",
    "        self.n_components = n_components\n",
    "\n",
    "    def fit(self, X, y):\n",
    "        n_features = X.shape[1]\n",
    "        class_labels = np.unique(y)  # should be of size 2\n",
    "\n",
    "        d1 = X[y == class_labels[0]]\n",
    "        d2 = X[y == class_labels[1]]\n",
    "\n",
    "        mean1 = np.mean(d1, axis=0)\n",
    "        mean2 = np.mean(d2, axis=0)\n",
    "\n",
    "        diff = mean1 - mean2\n",
    "\n",
    "        B = np.dot(diff, diff.T)\n",
    "\n",
    "        z1 = d1 - mean1.T\n",
    "        z2 = d2 - mean2.T\n",
    "\n",
    "        s1 = np.dot(z1.T, z1)\n",
    "        s2 = np.dot(z2, z2.T)\n",
    "\n",
    "        S = s1 + s2\n",
    "        S_inv = np.linalg.inv(S)\n",
    "\n",
    "        eigVal, eigVec = np.linalg.eigh(np.dot(S_inv, B))\n",
    "        eigVal = eigVal[::-1]\n",
    "        eigVec = eigVec[::-1]\n",
    "\n",
    "        eigVec = eigVec.T\n",
    "        self.lin_discriminants = eigVec[:self.n_components]\n",
    "\n",
    "    def get_lin_discriminants(self):\n",
    "        return self.lin_discriminants\n",
    "\n",
    "    def transform(self, X):\n",
    "        res = np.dot(X, self.lin_discriminants.T)\n",
    "\n",
    "        return res\n"
   ]
  }
 ],
 "metadata": {
  "kernelspec": {
   "display_name": "Python 3.10.8 64-bit (microsoft store)",
   "language": "python",
   "name": "python3"
  },
  "language_info": {
   "codemirror_mode": {
    "name": "ipython",
    "version": 3
   },
   "file_extension": ".py",
   "mimetype": "text/x-python",
   "name": "python",
   "nbconvert_exporter": "python",
   "pygments_lexer": "ipython3",
   "version": "3.10.8"
  },
  "vscode": {
   "interpreter": {
    "hash": "0d8697f2502f22d8115241def37717e557af02dbfb7bf30a985c1960297f663e"
   }
  }
 },
 "nbformat": 4,
 "nbformat_minor": 5
}
