{
  "cells": [
    {
      "cell_type": "markdown",
      "metadata": {
        "id": "RvtWCuVp5Thh"
      },
      "source": [
        "# Assignment 1 - EigenFaces"
      ]
    },
    {
      "cell_type": "code",
      "source": [
        "from google.colab import drive\n",
        "drive.mount('/content/drive')"
      ],
      "metadata": {
        "colab": {
          "base_uri": "https://localhost:8080/"
        },
        "id": "lOxsvPGV606f",
        "outputId": "c8cfec19-9a97-4a50-cca2-b07e9af9c02c"
      },
      "execution_count": 1,
      "outputs": [
        {
          "output_type": "stream",
          "name": "stdout",
          "text": [
            "Drive already mounted at /content/drive; to attempt to forcibly remount, call drive.mount(\"/content/drive\", force_remount=True).\n"
          ]
        }
      ]
    },
    {
      "cell_type": "markdown",
      "metadata": {
        "id": "SgjglynU5Thi"
      },
      "source": [
        "## Importing Libraries"
      ]
    },
    {
      "cell_type": "code",
      "execution_count": 1,
      "metadata": {
        "id": "wRnY1aAn5Thj"
      },
      "outputs": [],
      "source": [
        "import cupy as np\n",
        "import pandas as pd\n",
        "import cv2 as cv\n",
        "import glob\n",
        "import matplotlib.pyplot as plt"
      ]
    },
    {
      "cell_type": "code",
      "execution_count": 2,
      "metadata": {
        "id": "_Ecoha8E5Thk"
      },
      "outputs": [],
      "source": [
        "# path if in local \n",
        "# path = './archive/s*'\n",
        "\n",
        "# path if in colab\n",
        "path = '/content/drive/MyDrive/Pattern/eigen-faces/archive/s*'"
      ]
    },
    {
      "cell_type": "markdown",
      "metadata": {
        "id": "gWLOXXge5Thl"
      },
      "source": [
        "## 1. Download the Dataset and Understand the Format (10 Points)\n",
        "## 2. Generate the Data Matrix and the Label vector (10 Points)"
      ]
    },
    {
      "cell_type": "code",
      "execution_count": 28,
      "metadata": {
        "colab": {
          "base_uri": "https://localhost:8080/"
        },
        "id": "tOTmFlQb5Thl",
        "outputId": "978a4371-c3a3-4e1b-b063-ff116183c7b0"
      },
      "outputs": [
        {
          "output_type": "stream",
          "name": "stdout",
          "text": [
            "(400, 10304)\n",
            "(400,)\n"
          ]
        }
      ],
      "source": [
        "N = 10304\n",
        "D = np.ones((1, N))\n",
        "\n",
        "dirs = glob.glob(path)\n",
        "y = np.array([])\n",
        "j = 0\n",
        "for i, dir in enumerate(dirs, 1):\n",
        "    for f in glob.glob(dir+\"/*\"):\n",
        "        img = cv.imread(f, 0)\n",
        "        img = np.reshape(img, (1, N))\n",
        "        D = np.append(D, img, axis=0)\n",
        "        y = np.append(y, i)\n",
        "        j+=1\n",
        "        if j == 400:\n",
        "          break\n",
        "\n",
        "D = D[1:,]  # skip first row (1*N)\n",
        "\n",
        "\n",
        "print(D.shape)\n",
        "y = np.array(y)\n",
        "print(y.shape)"
      ]
    },
    {
      "cell_type": "markdown",
      "metadata": {
        "id": "e_tTJTWU5Thm"
      },
      "source": [
        "## 3. Split the Dataset into Training and Test sets (10 Points)"
      ]
    },
    {
      "cell_type": "code",
      "execution_count": 38,
      "metadata": {
        "id": "h_5yMVLo5Thm"
      },
      "outputs": [],
      "source": [
        "# training => odd\n",
        "# testing => even\n",
        "d_train, d_test = D[1::2], D[0::2]\n",
        "y_train, y_test = y[1::2], y[0::2]\n"
      ]
    },
    {
      "cell_type": "markdown",
      "metadata": {
        "id": "2H7SbCbI5Thn"
      },
      "source": [
        "## 4. Classification using PCA (30 points)"
      ]
    },
    {
      "cell_type": "code",
      "execution_count": 6,
      "metadata": {
        "colab": {
          "base_uri": "https://localhost:8080/"
        },
        "id": "KHEQ3bih5Thn",
        "outputId": "137c06d8-fe6d-452c-91b1-fa5b02f1cc32"
      },
      "outputs": [
        {
          "output_type": "execute_result",
          "data": {
            "text/plain": [
              "(200, 10304)"
            ]
          },
          "metadata": {},
          "execution_count": 6
        }
      ],
      "source": [
        "d_train.shape"
      ]
    },
    {
      "cell_type": "code",
      "execution_count": 7,
      "metadata": {
        "colab": {
          "base_uri": "https://localhost:8080/"
        },
        "id": "ktaVedYd5Thn",
        "outputId": "17add48a-0f28-4d9e-9311-5d6e3170acff"
      },
      "outputs": [
        {
          "output_type": "stream",
          "name": "stdout",
          "text": [
            "Mean shape: (1, 10304)\n",
            "Z shape: (200, 10304)\n"
          ]
        }
      ],
      "source": [
        "# compute mean\n",
        "mean = np.mean(d_train,axis=0, keepdims=True)\n",
        "print(\"Mean shape:\", mean.shape)\n",
        "\n",
        "# center data\n",
        "Z = d_train - mean\n",
        "print(\"Z shape:\", Z.shape)\n",
        "\n",
        "# compute covariance matrix\n",
        "cov = np.cov(Z.T, bias=True)\n",
        "\n",
        "# make sure covariance matrix is correct\n",
        "# std = np.std(Z, axis=0)\n",
        "# print(\"Covariance:\", cov)\n",
        "# print(\"Variance of each diagonal:\", std * std)\n",
        "\n",
        "# compute eigenvalues & eigenvectors\n",
        "eival, eivec = np.linalg.eigh(cov)\n",
        "\n",
        "# sort eigenval in descending order & corresponding eigenvec\n",
        "# idx = np.argsort(eival)[::-1]\n",
        "# eival = eival[idx]\n",
        "# eivec = eivec[:,idx]\n",
        "\n",
        "eival = eival[::-1]\n",
        "eivec = eivec[:,::-1]\n",
        "\n",
        "# add eigenvalues until explained variance >= alpha\n",
        "eival_sum = np.sum(eival)"
      ]
    },
    {
      "cell_type": "code",
      "source": [
        "del Z, cov"
      ],
      "metadata": {
        "id": "o_cyPobTZFMf"
      },
      "execution_count": 64,
      "outputs": []
    },
    {
      "cell_type": "code",
      "execution_count": 8,
      "metadata": {
        "colab": {
          "base_uri": "https://localhost:8080/"
        },
        "id": "FhzkUGPp5Tho",
        "outputId": "2b042438-cd04-482b-cbc9-89b67d3b78cb"
      },
      "outputs": [
        {
          "output_type": "stream",
          "name": "stdout",
          "text": [
            "36\n",
            "51\n",
            "75\n",
            "115\n"
          ]
        }
      ],
      "source": [
        "alphas = [0.8, 0.85, 0.9, 0.95]\n",
        "proj_matrices = []\n",
        "for alpha in alphas:\n",
        "    # nominator of explained variance\n",
        "    exp_var_nom = 0\n",
        "    i = 0\n",
        "    #while(round(exp_var_nom/float(eival_sum), 2) < alpha and i < len(eival)-1):\n",
        "    while(exp_var_nom/float(eival_sum)) < alpha and i < len(eival)-1:\n",
        "        exp_var_nom += eival[i]\n",
        "        i += 1\n",
        "    print(i-1)\n",
        "    proj_matrix = eivec[:, :i] # here we don't need to add 1 to i, since we post increment it\n",
        "    proj_matrices.append(proj_matrix)"
      ]
    },
    {
      "cell_type": "code",
      "source": [
        "del eivec, eival"
      ],
      "metadata": {
        "id": "IaXrsCoLZOAS"
      },
      "execution_count": 65,
      "outputs": []
    },
    {
      "cell_type": "code",
      "execution_count": 4,
      "metadata": {
        "id": "s8OwN_5q5Tho"
      },
      "outputs": [],
      "source": [
        "from sklearn.neighbors import KNeighborsClassifier\n",
        "from sklearn import metrics\n",
        "\n",
        "def classify_knn(data_train, labels_train, data_test, labels_test, k=1):\n",
        "    knn = KNeighborsClassifier(n_neighbors=k)\n",
        "    knn.fit(data_train, labels_train)\n",
        "    \n",
        "    # we can calculate accuracy either way\n",
        "    \n",
        "    # labels_pred = knn.predict(data_test)\n",
        "    #accuracy = metrics.accuracy_score(labels_test, labels_pred)\n",
        "    \n",
        "    accuracy = knn.score(data_test, labels_test)\n",
        "    \n",
        "    return accuracy"
      ]
    },
    {
      "cell_type": "code",
      "execution_count": 10,
      "metadata": {
        "colab": {
          "base_uri": "https://localhost:8080/"
        },
        "id": "c00H7YIp5Thp",
        "outputId": "3d36d162-db0c-4be2-f2a0-24e7d8c7b51b"
      },
      "outputs": [
        {
          "output_type": "stream",
          "name": "stdout",
          "text": [
            "Original accuracy: 0.95\n",
            "Accuracy for each alpha: {0.8: 0.955, 0.85: 0.945, 0.9: 0.955, 0.95: 0.95}\n"
          ]
        }
      ],
      "source": [
        "scores = {}\n",
        "\n",
        "org_accuracy = classify_knn(d_train.get(), y_train.get(), d_test.get(), y_test.get(), k=1)\n",
        "print(\"Original accuracy:\", org_accuracy)\n",
        "\n",
        "for proj_matrix, alpha in zip(proj_matrices, alphas):\n",
        "    d_train_new = np.dot(d_train, proj_matrix)\n",
        "    d_test_new = np.dot(d_test, proj_matrix)\n",
        "    \n",
        "    accuracy = classify_knn(d_train_new.get(), y_train.get(), d_test_new.get(), y_test.get(), k=1)\n",
        "    scores[alpha] = accuracy\n",
        "       \n",
        "print(\"Accuracy for each alpha:\", scores)\n"
      ]
    },
    {
      "cell_type": "code",
      "execution_count": 11,
      "metadata": {
        "colab": {
          "base_uri": "https://localhost:8080/",
          "height": 279
        },
        "id": "8itGxqwg5Thp",
        "outputId": "1fb423cf-8567-43d6-bb2b-e21256f16163"
      },
      "outputs": [
        {
          "output_type": "display_data",
          "data": {
            "text/plain": [
              "<Figure size 432x288 with 1 Axes>"
            ],
            "image/png": "[encoded data removed]"
          },
          "metadata": {
            "needs_background": "light"
          }
        }
      ],
      "source": [
        "# Accuracy vs alpha\n",
        "\n",
        "scores_plt = (scores.items())\n",
        "x, y = zip(*scores_plt)\n",
        "plt.plot(x, y)\n",
        "plt.xlabel(\"Alpha\")\n",
        "plt.ylabel(\"Accuracy\")\n",
        "plt.show()"
      ]
    },
    {
      "cell_type": "markdown",
      "metadata": {
        "id": "RmYCoKxO5Thp"
      },
      "source": [
        "## 5. Classification using LDA (30 points)"
      ]
    },
    {
      "cell_type": "code",
      "execution_count": 39,
      "metadata": {
        "id": "TGzszEmf5Thq"
      },
      "outputs": [],
      "source": [
        "# calculate class means\n",
        "means = np.ones((40, N))\n",
        "\n",
        "class_matrices = []\n",
        "\n",
        "for i in range(40):\n",
        "    class_matrix = d_train[i*5:(i+1)*5,:]\n",
        "    mean = np.mean(class_matrix, axis=0, keepdims=True)\n",
        "    means[i] = mean\n",
        "    class_matrices.append(class_matrix)\n",
        "\n",
        "overall_mean = np.mean(d_train, axis=0, keepdims=True)\n",
        "#print(means)"
      ]
    },
    {
      "cell_type": "code",
      "execution_count": 40,
      "metadata": {
        "id": "L7vFRiRc5Thq"
      },
      "outputs": [],
      "source": [
        "# calculate between-class scatter matrix\n",
        "nk = 5\n",
        "Sb = np.zeros((N, N))\n",
        "for i, mean in enumerate(means):\n",
        "    mean = mean.reshape(N, 1)\n",
        "    overall_mean = overall_mean.reshape(N, 1)\n",
        "    Sb += nk * np.dot((mean - overall_mean), (mean - overall_mean).T)"
      ]
    },
    {
      "cell_type": "code",
      "execution_count": 41,
      "metadata": {
        "id": "krSmcGkB5Thq"
      },
      "outputs": [],
      "source": [
        "# calculate center class matrics\n",
        "Zs = []\n",
        "for i in range(40):\n",
        "    Z = class_matrices[i] - means[i]\n",
        "    Zs.append(Z)"
      ]
    },
    {
      "cell_type": "code",
      "execution_count": 42,
      "metadata": {
        "colab": {
          "base_uri": "https://localhost:8080/"
        },
        "id": "PklSx8pZ5Thq",
        "outputId": "c9c5c1d8-29b5-4298-d129-c9ae58fc4ca0"
      },
      "outputs": [
        {
          "output_type": "stream",
          "name": "stdout",
          "text": [
            "(10304, 10304)\n",
            "(10304,)\n",
            "(10304, 40)\n"
          ]
        }
      ],
      "source": [
        "Ss = np.zeros((N,N))\n",
        "print(Ss.shape)\n",
        "# calculate class scatter matrices\n",
        "\n",
        "for i in range(40):\n",
        "    Si = np.dot(Zs[i].T,Zs[i])\n",
        "    Ss +=Si\n",
        "Ss_inv = np.linalg.inv(Ss)\n",
        "w, v = np.linalg.eigh(np.dot(Ss_inv,Sb))\n",
        "\n",
        "# using 39 dominant eigen vectors\n",
        "# idx = w.argsort()[::-1][:39]\n",
        "w = w[::-1]\n",
        "v = v[:,::-1]\n",
        "\n",
        "v = v[:,:40]\n",
        "\n",
        "print(w.shape)\n",
        "print(v.shape)\n"
      ]
    },
    {
      "cell_type": "code",
      "execution_count": 43,
      "metadata": {
        "scrolled": true,
        "colab": {
          "base_uri": "https://localhost:8080/"
        },
        "id": "taGKy4PL5Thr",
        "outputId": "c3bdb350-cc57-43c0-8c88-07af5d6ee4b9"
      },
      "outputs": [
        {
          "output_type": "stream",
          "name": "stdout",
          "text": [
            "(200, 40)\n",
            "(200, 40)\n",
            "accuracy: 0.96\n"
          ]
        }
      ],
      "source": [
        "def project(x, w):\n",
        "    x = np.asarray(x)\n",
        "    w = np.asarray(w)\n",
        "    \n",
        "    return np.dot(w,x.T).T\n",
        "# print(v.shape)\n",
        "d_train_new = project(d_train,v.T)\n",
        "d_test_new = project(d_test,v.T)\n",
        "print(d_train_new.shape)\n",
        "print(d_test_new.shape)\n",
        "\n",
        "accuracy = classify_knn(d_train_new.get(), y_train.get(), d_test_new.get(), y_test.get(), k=1)\n",
        "print(f\"accuracy: {accuracy}\")"
      ]
    },
    {
      "cell_type": "markdown",
      "metadata": {
        "id": "cBX-DwXl5Thr"
      },
      "source": [
        "## 6. Classifier Tuning (20)\n",
        "\n",
        "a. Set the number of neighbors in the K-NN classifier to 1,3,5,7."
      ]
    },
    {
      "cell_type": "markdown",
      "metadata": {
        "id": "ykOoRoQJ5Thr"
      },
      "source": [
        "**Tie breaking:**\n",
        "\n",
        "* We left tie breaking to the default sklearn tie breaking strategy of KNeighborsClassifier\n",
        "\n",
        "From the documentation for KNeighborsClassifier:\n",
        "\n",
        "\"Warning: Regarding the Nearest Neighbors algorithms, if it is found that two neighbors, neighbor k+1 and k, have identical distances but different labels, the results will depend on the ordering of the training data.\"\n",
        "\n",
        "So, in the case of ties, the answer will be the class that happens to appear first in the set of neighbors."
      ]
    },
    {
      "cell_type": "markdown",
      "metadata": {
        "id": "WjRjys025Ths"
      },
      "source": [
        "### 6. 1 PCA Tuning"
      ]
    },
    {
      "cell_type": "code",
      "execution_count": 17,
      "metadata": {
        "scrolled": true,
        "colab": {
          "base_uri": "https://localhost:8080/"
        },
        "id": "7zcd_HPz5Ths",
        "outputId": "5edec0c7-99b3-41fc-cb37-033f9d3c61b3"
      },
      "outputs": [
        {
          "output_type": "stream",
          "name": "stdout",
          "text": [
            "K = 1\n",
            "{0.8: 0.955, 0.85: 0.945, 0.9: 0.955, 0.95: 0.95}\n",
            "\n",
            "\n",
            "K = 3\n",
            "{0.8: 0.905, 0.85: 0.905, 0.9: 0.9, 0.95: 0.88}\n",
            "\n",
            "\n",
            "K = 5\n",
            "{0.8: 0.82, 0.85: 0.83, 0.9: 0.835, 0.95: 0.805}\n",
            "\n",
            "\n",
            "K = 7\n",
            "{0.8: 0.75, 0.85: 0.745, 0.9: 0.735, 0.95: 0.73}\n",
            "\n",
            "\n"
          ]
        }
      ],
      "source": [
        "Ks = [1, 3, 5, 7]\n",
        "\n",
        "scores = {}\n",
        "\n",
        "for k in Ks:\n",
        "    scores_per_k = {}\n",
        "    for proj_matrix, alpha in zip(proj_matrices, alphas):\n",
        "        d_train_new = np.dot(d_train, proj_matrix)\n",
        "        d_test_new = np.dot(d_test, proj_matrix)\n",
        "        accuracy = classify_knn(d_train_new.get(), y_train.get(), d_test_new.get(), y_test.get(), k=k)\n",
        "        scores_per_k[alpha] = accuracy\n",
        "    scores[k] = scores_per_k\n",
        "    print(\"K =\", k)\n",
        "    print(scores[k])\n",
        "    print(\"\\n\")\n"
      ]
    },
    {
      "cell_type": "code",
      "execution_count": 18,
      "metadata": {
        "colab": {
          "base_uri": "https://localhost:8080/",
          "height": 279
        },
        "id": "6_5gjKHa5Ths",
        "outputId": "d0879277-8346-416b-ac08-2b6ebbec82be"
      },
      "outputs": [
        {
          "output_type": "display_data",
          "data": {
            "text/plain": [
              "<Figure size 432x288 with 1 Axes>"
            ],
            "image/png": "[encoded data removed]"
          },
          "metadata": {
            "needs_background": "light"
          }
        }
      ],
      "source": [
        "# plotting\n",
        "max_accs = []\n",
        "\n",
        "for k in scores:\n",
        "    max_alpha = max(scores[k])\n",
        "    max_acc = scores[k][max_alpha]\n",
        "    max_accs.append(max_acc)\n",
        "    \n",
        "plt.plot(Ks, max_accs)\n",
        "plt.xlabel(\"Number of Neighbors\")\n",
        "plt.ylabel(\"Accuracy\")\n",
        "plt.show()"
      ]
    },
    {
      "cell_type": "markdown",
      "metadata": {
        "id": "qhrtK95j5Ths"
      },
      "source": [
        "### 6.2 LDA Tuning"
      ]
    },
    {
      "cell_type": "code",
      "execution_count": 44,
      "metadata": {
        "colab": {
          "base_uri": "https://localhost:8080/"
        },
        "id": "OuZx4Zw95Tht",
        "outputId": "47beb632-8d71-4462-aa96-2ef47d4af456"
      },
      "outputs": [
        {
          "output_type": "stream",
          "name": "stdout",
          "text": [
            "(200, 40)\n",
            "(200, 40)\n"
          ]
        }
      ],
      "source": [
        "def project(x, w):\n",
        "    x = np.asarray(x)\n",
        "    w = np.asarray(w)\n",
        "    \n",
        "    return np.dot(w,x.T).T\n",
        "# print(v.shape)\n",
        "d_train_new_lda = project(d_train,v.T)\n",
        "d_test_new_lda = project(d_test,v.T)\n",
        "print(d_train_new_lda.shape)\n",
        "print(d_test_new_lda.shape)\n"
      ]
    },
    {
      "cell_type": "code",
      "execution_count": 45,
      "metadata": {
        "colab": {
          "base_uri": "https://localhost:8080/"
        },
        "id": "yR_kF67L5Tht",
        "outputId": "a35dd766-7fe0-4d25-c57e-515b9b3376fc"
      },
      "outputs": [
        {
          "output_type": "stream",
          "name": "stdout",
          "text": [
            "accuracy: 0.96\n",
            "accuracy: 0.925\n",
            "accuracy: 0.885\n",
            "accuracy: 0.825\n"
          ]
        },
        {
          "output_type": "execute_result",
          "data": {
            "text/plain": [
              "{1: 0.96, 3: 0.925, 5: 0.885, 7: 0.825}"
            ]
          },
          "metadata": {},
          "execution_count": 45
        }
      ],
      "source": [
        "scores = {}\n",
        "kk = []\n",
        "Ks = [1, 3, 5, 7]\n",
        "\n",
        "for k in Ks:\n",
        "    scores_per_k = {}\n",
        "    accuracy = classify_knn(d_train_new_lda.get(), y_train.get(), d_test_new_lda.get(), y_test.get(), k=k)\n",
        "    print(f\"accuracy: {accuracy}\")\n",
        "    scores[k] = accuracy\n",
        "    kk.append(accuracy)\n",
        "scores"
      ]
    },
    {
      "cell_type": "code",
      "execution_count": 46,
      "metadata": {
        "colab": {
          "base_uri": "https://localhost:8080/",
          "height": 279
        },
        "id": "4PynneOz5Tht",
        "outputId": "1dfd631a-da66-40f7-be8f-b038d7f6a81b"
      },
      "outputs": [
        {
          "output_type": "display_data",
          "data": {
            "text/plain": [
              "<Figure size 432x288 with 1 Axes>"
            ],
            "image/png": "[encoded data removed]"
          },
          "metadata": {
            "needs_background": "light"
          }
        }
      ],
      "source": [
        "plt.plot(Ks,kk)\n",
        "plt.xlabel(\"Number of Neighbors\")\n",
        "plt.ylabel(\"Accuraccy\")\n",
        "plt.show()"
      ]
    },
    {
      "cell_type": "markdown",
      "metadata": {
        "id": "LPDrk76R5Thu"
      },
      "source": [
        "## 7. Compare with Non-face images (15 points)"
      ]
    },
    {
      "cell_type": "markdown",
      "metadata": {
        "id": "r6I4wHdZ5Thu"
      },
      "source": [
        "### Load Dataset"
      ]
    },
    {
      "cell_type": "code",
      "execution_count": 5,
      "metadata": {
        "colab": {
          "base_uri": "https://localhost:8080/"
        },
        "id": "XwGU4aSy5Thu",
        "outputId": "101cf69d-d348-4e28-aff8-d8ff05664e81"
      },
      "outputs": [
        {
          "output_type": "stream",
          "name": "stdout",
          "text": [
            "(400, 10304)\n",
            "(400, 1)\n"
          ]
        }
      ],
      "source": [
        "# Load non-faces equal in count to faces (200 train, 200 test)\n",
        "# Labels: 1 --> Face, 0 --> Non-face\n",
        "\n",
        "# if in local\n",
        "# non_face_path = './non_faces' \n",
        "\n",
        "# if in colab\n",
        "non_face_path = \"/content/drive/MyDrive/Pattern/eigen-faces/non_faces\"\n",
        "\n",
        "\n",
        "N = 10304\n",
        "d_non = np.ones((1, N))\n",
        "\n",
        "y_non = np.array([])\n",
        "i = 0\n",
        "temp_img = np.array([92, 112])\n",
        "\n",
        "for f in glob.glob(non_face_path+\"/*\"):\n",
        "    if i == 400:\n",
        "        break\n",
        "    img = cv.imread(f, 0)\n",
        "    temp_img = img[:92, :112]\n",
        "    img = temp_img\n",
        "    img = np.reshape(img, (1, N))\n",
        "    d_non = np.append(d_non, img, axis=0)\n",
        "    y_non = np.append(y_non, 0)\n",
        "    i+=1\n",
        "\n",
        "d_non = d_non[1:,]  # skip first row (1*N)\n",
        "\n",
        "\n",
        "print(d_non.shape)\n",
        "y_non = np.expand_dims(np.array(y_non), 1)\n",
        "print(y_non.shape)"
      ]
    },
    {
      "cell_type": "code",
      "execution_count": 6,
      "metadata": {
        "colab": {
          "base_uri": "https://localhost:8080/"
        },
        "id": "ajZflrdP5Thu",
        "outputId": "e571b9cb-122c-4d59-9cf9-5b00d36fd4c6"
      },
      "outputs": [
        {
          "output_type": "stream",
          "name": "stdout",
          "text": [
            "(400, 1)\n"
          ]
        }
      ],
      "source": [
        "y1 = np.ones((400,1))\n",
        "print(y1.shape)"
      ]
    },
    {
      "cell_type": "code",
      "execution_count": 7,
      "metadata": {
        "colab": {
          "base_uri": "https://localhost:8080/"
        },
        "id": "q9YLHn5l5Thu",
        "outputId": "fd9b2f40-479b-4acd-8ea8-e164327eb278"
      },
      "outputs": [
        {
          "output_type": "stream",
          "name": "stdout",
          "text": [
            "(400, 10305)\n",
            "(400, 10305)\n",
            "(800, 10305)\n",
            "(800, 10304)\n",
            "(800,)\n"
          ]
        }
      ],
      "source": [
        "# Non-face array w/ labels\n",
        "non_faces = np.append(d_non, y_non, axis=1)\n",
        "faces = np.append(D, y1, axis=1)\n",
        "print(non_faces.shape)\n",
        "print(faces.shape)\n",
        "\n",
        "data = np.append(non_faces, faces, axis=0)\n",
        "print(data.shape)\n",
        "d2 = data[:, :N]\n",
        "y2 = data[:,N]\n",
        "\n",
        "print(d2.shape)\n",
        "print(y2.shape)"
      ]
    },
    {
      "cell_type": "code",
      "execution_count": 8,
      "metadata": {
        "colab": {
          "base_uri": "https://localhost:8080/"
        },
        "id": "tzp6BAOF5Thv",
        "outputId": "66dbd1b2-ff65-4472-8429-29d3f09accfe"
      },
      "outputs": [
        {
          "output_type": "stream",
          "name": "stdout",
          "text": [
            "(400, 10304)\n"
          ]
        }
      ],
      "source": [
        "# separate into training & testing (one odd, one even)\n",
        "# training => odd\n",
        "# testing => even\n",
        "d2_train, d2_test = d2[1::2], d2[0::2]\n",
        "y2_train, y2_test = y2[1::2], y2[0::2]\n",
        "\n",
        "print(d2_train.shape)"
      ]
    },
    {
      "cell_type": "code",
      "execution_count": 9,
      "metadata": {
        "colab": {
          "base_uri": "https://localhost:8080/",
          "height": 268
        },
        "id": "JF-eDHRG5Thv",
        "outputId": "ac75558e-e9b5-4030-9bbb-471e630d770f"
      },
      "outputs": [
        {
          "output_type": "display_data",
          "data": {
            "text/plain": [
              "<Figure size 432x288 with 1 Axes>"
            ],
            "image/png": "[encoded data removed]"
          },
          "metadata": {
            "needs_background": "light"
          }
        }
      ],
      "source": [
        "img = d2_train[120]\n",
        "img = np.reshape(img, (92, 112))\n",
        "\n",
        "plt.imshow(img.get(), cmap='gray')\n",
        "plt.show()\n"
      ]
    },
    {
      "cell_type": "markdown",
      "metadata": {
        "id": "FPrDi7he5Thv"
      },
      "source": [
        "### PCA"
      ]
    },
    {
      "cell_type": "code",
      "source": [
        "#!/usr/bin/env python\n",
        "# coding: utf-8\n",
        "\n",
        "# # Importing Libraries\n",
        "\n",
        "# In[1]:\n",
        "\n",
        "\n",
        "import cupy as np\n",
        "\n",
        "class PCA():\n",
        "    def __init__(self):\n",
        "        # the percentage of the information that we need\n",
        "        pass\n",
        "        \n",
        "        \n",
        "    \n",
        "    # get mean of every dimensions\n",
        "    def get_mean(self):\n",
        "        mean = np.mean(self.data, axis = 0, keepdims = True)\n",
        "        self.mean = mean\n",
        "        del mean\n",
        "        \n",
        "#         return mean\n",
        "    \n",
        "    \n",
        "    # Center data around the mean\n",
        "    def center_data(self):\n",
        "        self.c_data = self.data - self.mean\n",
        "        del self.data\n",
        "        del self.mean\n",
        "        \n",
        "#         return self.data\n",
        "    \n",
        "    \n",
        "    # get covairance matrix of the data\n",
        "    def cov(self):\n",
        "        self.cov = np.cov(self.c_data.T, bias = True)\n",
        "        del self.c_data\n",
        "        \n",
        "#         return self.cov\n",
        "    \n",
        "    \n",
        "    \n",
        "    # calculate eigen values and eigen vector\n",
        "    # centralized\n",
        "    def calc_eig(self):\n",
        "        w, v = np.linalg.eigh(self.cov)\n",
        "        w = w[::-1]\n",
        "        v = v[:,::-1]\n",
        "        \n",
        "        self.eival = w\n",
        "        self.eivec = v\n",
        "        self.eival_sum = np.sum(w)\n",
        "        \n",
        "\n",
        "    # get projected matrix which contains the new dimensions\n",
        "    def calc_proj_matrix(self):\n",
        "        \n",
        "        eival_sum = self.eival_sum\n",
        "        alpha = self.alpha\n",
        "        eival = self.eival\n",
        "        eivec = self.eivec\n",
        "        \n",
        "        exp_var_nom = 0\n",
        "        i = 0\n",
        "        while exp_var_nom/float(eival_sum) < alpha and i < len(eival)-1:\n",
        "            exp_var_nom += eival[i]\n",
        "            i += 1\n",
        "        print(i-1)\n",
        "        self.proj_matrix = eivec[:, :i]\n",
        "        print(i)\n",
        "#         return self.proj_matrix\n",
        "              \n",
        "    def get_proj_matrix(self):\n",
        "        return self.proj_matrix\n",
        "    \n",
        "    def _fit(self, data):\n",
        "        self.data = data\n",
        "        # get mean matrix\n",
        "        self.get_mean()\n",
        "        # center data around mean\n",
        "        self.center_data()\n",
        "        # get covariance matrix\n",
        "        self.cov()\n",
        "        # get eigvals ,eigvecs\n",
        "        self.calc_eig()\n",
        "\n",
        "    \n",
        "    def fit(self, data):\n",
        "        self.calc_proj_matrix()\n",
        "        \n",
        "    def transform(self, X):\n",
        "        return np.dot(X,self.proj_matrix)\n",
        "    \n",
        "    def set_alpha(self, alpha):\n",
        "        self.alpha = alpha    \n",
        "        \n",
        "\n"
      ],
      "metadata": {
        "id": "3XU8BK7NW-tK"
      },
      "execution_count": 15,
      "outputs": []
    },
    {
      "cell_type": "code",
      "execution_count": 67,
      "metadata": {
        "scrolled": true,
        "colab": {
          "base_uri": "https://localhost:8080/"
        },
        "id": "PxWPpr_X5Thv",
        "outputId": "8eefeb27-bbb6-4908-beec-01c1a1b7fd68"
      },
      "outputs": [
        {
          "output_type": "stream",
          "name": "stdout",
          "text": [
            "Done fitting!\n"
          ]
        }
      ],
      "source": [
        "alphas = [0.8, 0.85, 0.9, 0.95]\n",
        "scores = {}\n",
        "pca = PCA()\n",
        "pca._fit(d2_train.get())\n",
        "print(\"Done fitting!\")"
      ]
    },
    {
      "cell_type": "code",
      "execution_count": 68,
      "metadata": {
        "colab": {
          "base_uri": "https://localhost:8080/"
        },
        "id": "7xCOZf3h5Thv",
        "outputId": "6395ad1f-4853-4c5b-a32e-da5f2b26422b"
      },
      "outputs": [
        {
          "output_type": "stream",
          "name": "stdout",
          "text": [
            "33\n",
            "34\n",
            "50\n",
            "51\n",
            "77\n",
            "78\n",
            "131\n",
            "132\n"
          ]
        },
        {
          "output_type": "execute_result",
          "data": {
            "text/plain": [
              "{0.8: 0.9933333333333333,\n",
              " 0.85: 0.9933333333333333,\n",
              " 0.9: 0.9933333333333333,\n",
              " 0.95: 0.9966666666666667}"
            ]
          },
          "metadata": {},
          "execution_count": 68
        }
      ],
      "source": [
        "for alpha in alphas:\n",
        "    pca.set_alpha(alpha)\n",
        "    pca.fit(d2_train)\n",
        "    d2_train_new = pca.transform(d2_train)\n",
        "    d2_test_new = pca.transform(d2_test)\n",
        "    \n",
        "    accuracy = classify_knn(d2_train_new.get(), y2_train.get(), d2_test_new.get(), y2_test.get(), k=1)\n",
        "    scores[alpha] = accuracy\n",
        "    \n",
        "scores"
      ]
    },
    {
      "cell_type": "markdown",
      "metadata": {
        "id": "xZW2bj3z5Thw"
      },
      "source": [
        "### LDA"
      ]
    },
    {
      "cell_type": "code",
      "execution_count": 10,
      "metadata": {
        "id": "gRUKA0XJ5Thw"
      },
      "outputs": [],
      "source": [
        "import cupy as np\n",
        "\n",
        "class LDA():\n",
        "    def __init__(self, n_components=2):\n",
        "        np.get_default_memory_pool().free_all_blocks()\n",
        "        self.n_components = n_components\n",
        "\n",
        "    def fit(self, X, y):\n",
        "        class_labels = np.unique(y)  # should be of size 2\n",
        "\n",
        "        d1 = X[y == class_labels[0]]\n",
        "        d2 = X[y == class_labels[1]]\n",
        "        #         print(f\"D1 shape: {d1.shape}\")\n",
        "        #         print(f\"D2 shape: {d2.shape}\")\n",
        "\n",
        "        mean1 = np.mean(d1, axis=0)\n",
        "        mean2 = np.mean(d2, axis=0)\n",
        "\n",
        "        diff = mean1 - mean2\n",
        "        Sb = np.dot(diff, diff.T)\n",
        "        \n",
        "        del diff\n",
        "\n",
        "        z1 = d1 - mean1.T\n",
        "        z2 = d2 - mean2.T\n",
        "\n",
        "        del mean1, mean2\n",
        "        del d1, d2\n",
        "\n",
        "        s1 = np.dot(z1.T, z1)\n",
        "        s2 = np.dot(z2.T, z2)\n",
        "\n",
        "        del z1, z2\n",
        "\n",
        "        Sw = s1 + s2\n",
        "        S_inv = np.linalg.inv(Sw)\n",
        "\n",
        "        del Sw\n",
        "\n",
        "        x = np.dot(S_inv, Sb)\n",
        "        print(x.shape)\n",
        "\n",
        "        del S_inv\n",
        "        del Sb\n",
        "        eigVal, eigVec = np.linalg.eigh(x)\n",
        "\n",
        "        idxs = np.argsort(eigVal)[::-1]\n",
        "        eigVal = eigVal[idxs]\n",
        "        eigVec = eigVec[idxs]\n",
        "\n",
        "        self.lin_discriminants = eigVec[:39]\n",
        "\n",
        "    def get_lin_discriminants(self):\n",
        "        return self.lin_discriminants\n",
        "\n",
        "    def transform(self, X):\n",
        "        res = np.dot(X, self.lin_discriminants.T)\n",
        "\n",
        "        return res"
      ]
    },
    {
      "cell_type": "code",
      "execution_count": 11,
      "metadata": {
        "colab": {
          "base_uri": "https://localhost:8080/"
        },
        "id": "IEf1YUvv5Thw",
        "outputId": "01b2ff1f-8d48-49d9-f6ef-71c32be5cd72"
      },
      "outputs": [
        {
          "output_type": "stream",
          "name": "stdout",
          "text": [
            "198026240\n",
            "198026240\n",
            "0\n",
            "(10304, 10304)\n",
            "Done fitting!\n"
          ]
        }
      ],
      "source": [
        "np.get_default_memory_pool().free_all_blocks()\n",
        "scores_lda = []\n",
        "lda = LDA(2)\n",
        "\n",
        "\n",
        "mempool = np.get_default_memory_pool()\n",
        "pinned_mempool = np.get_default_pinned_memory_pool()\n",
        "pinned_mempool.free_all_blocks()\n",
        "mempool.free_all_blocks()\n",
        "print(mempool.used_bytes())            \n",
        "print(mempool.total_bytes())\n",
        "print(pinned_mempool.n_free_blocks())\n",
        "\n",
        "\n",
        "lda.fit(d2_train,y2_train)\n",
        "print(\"Done fitting!\")"
      ]
    },
    {
      "cell_type": "code",
      "execution_count": 12,
      "metadata": {
        "colab": {
          "base_uri": "https://localhost:8080/"
        },
        "id": "AovuQwxu5Thw",
        "outputId": "bd38e4d6-4ff7-4835-e845-6acd14ec78a3"
      },
      "outputs": [
        {
          "output_type": "execute_result",
          "data": {
            "text/plain": [
              "0.965"
            ]
          },
          "metadata": {},
          "execution_count": 12
        }
      ],
      "source": [
        "d2_train_new_lda = lda.transform(d2_train)\n",
        "d2_test_new_lda = lda.transform(d2_test)\n",
        "accuracy = classify_knn(d2_train_new_lda.get(), y2_train.get(), d2_test_new_lda.get(), y2_test.get(), k=1)\n",
        "\n",
        "accuracy"
      ]
    },
    {
      "cell_type": "markdown",
      "metadata": {
        "id": "3gQNgWXh5Thw"
      },
      "source": [
        "### Accuracy vs. Number of non-face images"
      ]
    },
    {
      "cell_type": "code",
      "execution_count": 13,
      "metadata": {
        "id": "cWczbSnK5Thw"
      },
      "outputs": [],
      "source": [
        "# Plot the accuracy vs the number of non-face images while fixing \n",
        "# the number of face images.\n",
        "\n",
        "# 50-50 Training so # of training samples = # testing samples\n",
        "\n",
        "# number to try:\n",
        "numbers = [200, 300, 400, 500, 600, 700]\n",
        "datasets_train = {}\n",
        "datasets_test = {}\n",
        "ys_train = {}\n",
        "ys_test = {}\n",
        "\n",
        "# Reload data \n",
        "\n",
        "for num in numbers:\n",
        "    d_non = np.ones((1, N))\n",
        "    y_non = np.array([])\n",
        "    i = 0\n",
        "    temp_img = np.array([92, 112])\n",
        "    for f in glob.glob(non_face_path+\"/*\"):\n",
        "        if i == num:\n",
        "            break\n",
        "        img = cv.imread(f, 0)\n",
        "        temp_img = img[:92, :112]\n",
        "        img = temp_img\n",
        "        img = np.reshape(img, (1, N))\n",
        "        d_non = np.append(d_non, img, axis=0)\n",
        "        y_non = np.append(y_non, 0)\n",
        "        i+=1\n",
        "\n",
        "    d_non = d_non[1:,]  # skip first row (1*N)\n",
        "    y_non = np.expand_dims(np.array(y_non), 1)\n",
        "    y1 = np.ones((400,1))\n",
        "    # put faces & non faces together\n",
        "    non_faces = np.append(d_non, y_non, axis=1)\n",
        "    faces = np.append(D, y1, axis=1)\n",
        "\n",
        "    data = np.append(non_faces, faces, axis=0)\n",
        "    d2 = data[:, :10304]\n",
        "    y2 = data[:,10304]\n",
        "    \n",
        "    d2_train, d2_test = d2[1::2], d2[0::2]\n",
        "    y2_train, y2_test = y2[1::2], y2[0::2]\n",
        "    \n",
        "    datasets_train[num] = d2_train\n",
        "    datasets_test[num] = d2_test\n",
        "    ys_train[num] = y2_train\n",
        "    ys_test[num] = y2_test\n",
        "    \n"
      ]
    },
    {
      "cell_type": "code",
      "execution_count": 19,
      "metadata": {
        "colab": {
          "base_uri": "https://localhost:8080/"
        },
        "id": "5hCEk0U95Thx",
        "outputId": "b4460ef8-a667-40fb-e0ab-15793f01217f"
      },
      "outputs": [
        {
          "output_type": "stream",
          "name": "stdout",
          "text": [
            "131\n",
            "132\n",
            "(10304, 10304)\n",
            "140\n",
            "141\n",
            "(10304, 10304)\n",
            "150\n",
            "151\n",
            "(10304, 10304)\n",
            "155\n",
            "156\n",
            "(10304, 10304)\n",
            "164\n",
            "165\n",
            "(10304, 10304)\n",
            "177\n",
            "178\n",
            "(10304, 10304)\n",
            "{200: 0.9966666666666667, 300: 0.9971428571428571, 400: 0.9975, 500: 0.9977777777777778, 600: 0.998, 700: 0.9981818181818182}\n",
            "{200: 0.9633333333333334, 300: 0.9571428571428572, 400: 0.965, 500: 0.9622222222222222, 600: 0.972, 700: 0.9618181818181818}\n"
          ]
        }
      ],
      "source": [
        "# USE CONSTANT ALPHA FOR PCA = 0.95\n",
        "\n",
        "alpha = 0.95\n",
        "pca_accuracies = {}\n",
        "lda_accuracies = {}\n",
        "\n",
        "for num in numbers:\n",
        "    d2_train = datasets_train[num]\n",
        "    d2_test = datasets_test[num]\n",
        "    y2_train = ys_train[num]\n",
        "    y2_test =  ys_test[num]\n",
        "    \n",
        "    pca = PCA()\n",
        "    pca._fit(d2_train)\n",
        "    pca.set_alpha(alpha)\n",
        "    pca.fit(d2_train)\n",
        "    d2_train_new = pca.transform(d2_train)\n",
        "    d2_test_new = pca.transform(d2_test)\n",
        "    \n",
        "    accuracy = classify_knn(d2_train_new.get(), y2_train.get(), d2_test_new.get(), y2_test.get(), k=1)\n",
        "    pca_accuracies[num] = accuracy\n",
        "    \n",
        "    \n",
        "    lda = LDA(2)\n",
        "    lda.fit(d2_train,y2_train)\n",
        "    d2_train_lda_new = lda.transform(d2_train)\n",
        "    d2_test_lda_new = lda.transform(d2_test)\n",
        "    \n",
        "    accuracy = classify_knn(d2_train_lda_new.get(), y2_train.get(), d2_test_lda_new.get(), y2_test.get(), k=1)\n",
        "    lda_accuracies[num] = accuracy\n",
        "\n",
        "print(pca_accuracies)\n",
        "print(lda_accuracies)"
      ]
    },
    {
      "cell_type": "code",
      "source": [
        "pca_plt = (pca_accuracies.items())\n",
        "x1, y1 = zip(*pca_plt)\n",
        "plt.plot(x1, y1)\n",
        "plt.xlabel(\"# of non-faces\")\n",
        "plt.ylabel(\"Accuracy\")\n",
        "plt.show()"
      ],
      "metadata": {
        "colab": {
          "base_uri": "https://localhost:8080/",
          "height": 279
        },
        "id": "5PQvk5zQcuDs",
        "outputId": "3e8432bf-7b1b-499e-ad33-12dce4c1802e"
      },
      "execution_count": 22,
      "outputs": [
        {
          "output_type": "display_data",
          "data": {
            "text/plain": [
              "<Figure size 432x288 with 1 Axes>"
            ],
            "image/png": "[encoded data removed]"
          },
          "metadata": {
            "needs_background": "light"
          }
        }
      ]
    },
    {
      "cell_type": "code",
      "source": [
        "lda_plt = (lda_accuracies.items())\n",
        "x2, y2 = zip(*lda_plt)\n",
        "plt.plot(x2, y2)\n",
        "plt.xlabel(\"# of non-faces\")\n",
        "plt.ylabel(\"Accuracy\")\n",
        "plt.show()"
      ],
      "metadata": {
        "colab": {
          "base_uri": "https://localhost:8080/",
          "height": 279
        },
        "id": "Cl0Xm9ezc76d",
        "outputId": "6bf67f69-63a9-4c5e-be40-7bad863a7469"
      },
      "execution_count": 23,
      "outputs": [
        {
          "output_type": "display_data",
          "data": {
            "text/plain": [
              "<Figure size 432x288 with 1 Axes>"
            ],
            "image/png": "[encoded data removed]"
          },
          "metadata": {
            "needs_background": "light"
          }
        }
      ]
    },
    {
      "cell_type": "code",
      "source": [
        "plt.xlabel(\"Number of Non Faces\")\n",
        "plt.ylabel(\"Accuracies\")\n",
        "plt.plot(x1,y1, label=\"PCA\")\n",
        "plt.plot(x2,y2, label=\"LDA\")\n",
        "\n",
        "plt.legend(bbox_to_anchor=(1.05, 1.0), loc='upper left')\n",
        "\n",
        "plt.show()"
      ],
      "metadata": {
        "colab": {
          "base_uri": "https://localhost:8080/",
          "height": 282
        },
        "id": "7Q3vi_FhdffE",
        "outputId": "5cabed93-de9a-49ea-e47d-0a1ad47a6a6b"
      },
      "execution_count": 24,
      "outputs": [
        {
          "output_type": "display_data",
          "data": {
            "text/plain": [
              "<Figure size 432x288 with 1 Axes>"
            ],
            "image/png": "[encoded data removed]"
          },
          "metadata": {
            "needs_background": "light"
          }
        }
      ]
    },
    {
      "cell_type": "markdown",
      "metadata": {
        "id": "M7P_iUhZ5Tht"
      },
      "source": [
        "### Observations:\n",
        "\n",
        "PCA performs better in case where number of samples per class is less. Whereas LDA works better with large dataset having multiple classes; class separability is an important factor while reducing dimensionality.\n",
        "\n",
        "This means, in the first task, LDA performed slightly better since there were 40 classes, but in the second task, PCA was visibly better."
      ]
    },
    {
      "cell_type": "markdown",
      "metadata": {
        "id": "yKXLjmoz5Thx"
      },
      "source": [
        "## 8. Bonus (5 points)"
      ]
    },
    {
      "cell_type": "markdown",
      "metadata": {
        "id": "jLeSDpty5Thx"
      },
      "source": [
        "### FACES CLASSIFICATION:"
      ]
    },
    {
      "cell_type": "markdown",
      "metadata": {
        "id": "U8svp7HM5Thx"
      },
      "source": [
        "We have 400 faces. We take the first 7 instances of each class for training and the last 3 for testing."
      ]
    },
    {
      "cell_type": "code",
      "execution_count": 29,
      "metadata": {
        "colab": {
          "base_uri": "https://localhost:8080/"
        },
        "id": "f4u2SN5q5Thx",
        "outputId": "34917a2f-e96d-4295-b5d4-b713308921ca"
      },
      "outputs": [
        {
          "output_type": "execute_result",
          "data": {
            "text/plain": [
              "((400, 10304), (400,))"
            ]
          },
          "metadata": {},
          "execution_count": 29
        }
      ],
      "source": [
        "D.shape, y.shape"
      ]
    },
    {
      "cell_type": "code",
      "execution_count": 30,
      "metadata": {
        "colab": {
          "base_uri": "https://localhost:8080/"
        },
        "id": "cTNh4xMU5Thx",
        "outputId": "9216e2e2-6d16-4991-e3b7-a2133e57747b"
      },
      "outputs": [
        {
          "output_type": "stream",
          "name": "stdout",
          "text": [
            "(280, 10304)\n",
            "(120, 10304)\n",
            "(280,)\n",
            "(120,)\n"
          ]
        }
      ],
      "source": [
        "d3_test = np.ones((1, N))\n",
        "d3_train = np.ones((1, N))\n",
        "y3_train = np.array([])\n",
        "y3_test = np.array([])\n",
        "for i in range(len(D)):\n",
        "    stri = str(i)\n",
        "    unit = stri[-1]\n",
        "    if unit == '7' or unit == '8' or unit == '9':\n",
        "        d3_test = np.append(d3_test, D[[i]], axis=0)\n",
        "        y3_test = np.append(y3_test, y[i])\n",
        "    else:\n",
        "        d3_train = np.append(d3_train, D[[i]], axis=0)\n",
        "        y3_train = np.append(y3_train, y[i])\n",
        "        \n",
        "        \n",
        "d3_train = d3_train[1:,] \n",
        "d3_test = d3_test[1:,] \n",
        "        \n",
        "print(d3_train.shape)\n",
        "print(d3_test.shape)\n",
        "print(y3_train.shape)\n",
        "print(y3_test.shape)"
      ]
    },
    {
      "cell_type": "markdown",
      "metadata": {
        "id": "ejhtVEuH5Thy"
      },
      "source": [
        "### PCA:"
      ]
    },
    {
      "cell_type": "code",
      "execution_count": 31,
      "metadata": {
        "colab": {
          "base_uri": "https://localhost:8080/"
        },
        "id": "CJImF-qq5Thy",
        "outputId": "ade39e84-7781-4db2-eb39-bf244fb58cb3"
      },
      "outputs": [
        {
          "output_type": "stream",
          "name": "stdout",
          "text": [
            "Done fitting!\n"
          ]
        }
      ],
      "source": [
        "alphas = [0.8, 0.85, 0.9, 0.95]\n",
        "scores = {}\n",
        "pca = PCA()\n",
        "pca._fit(d3_train)\n",
        "print(\"Done fitting!\")"
      ]
    },
    {
      "cell_type": "code",
      "execution_count": 33,
      "metadata": {
        "colab": {
          "base_uri": "https://localhost:8080/"
        },
        "id": "qnVLHJHO5Thy",
        "outputId": "441b107b-73f4-417b-dad2-82cb57930e82"
      },
      "outputs": [
        {
          "output_type": "stream",
          "name": "stdout",
          "text": [
            "40\n",
            "41\n",
            "59\n",
            "60\n",
            "92\n",
            "93\n",
            "148\n",
            "149\n"
          ]
        },
        {
          "output_type": "execute_result",
          "data": {
            "text/plain": [
              "{0.8: 0.9583333333333334,\n",
              " 0.85: 0.9583333333333334,\n",
              " 0.9: 0.9666666666666667,\n",
              " 0.95: 0.9666666666666667}"
            ]
          },
          "metadata": {},
          "execution_count": 33
        }
      ],
      "source": [
        "for alpha in alphas:\n",
        "    pca.set_alpha(alpha)\n",
        "    pca.fit(d3_train)\n",
        "    d3_train_new = pca.transform(d3_train)\n",
        "    d3_test_new = pca.transform(d3_test)\n",
        "    \n",
        "    accuracy = classify_knn(d3_train_new.get(), y3_train.get(), d3_test_new.get(), y3_test.get(), k=1)\n",
        "    scores[alpha] = accuracy\n",
        "    \n",
        "scores"
      ]
    },
    {
      "cell_type": "markdown",
      "metadata": {
        "id": "H39DffgJ5Thy"
      },
      "source": [
        "### LDA:"
      ]
    },
    {
      "cell_type": "code",
      "source": [
        "means = np.ones((40, N))\n",
        "\n",
        "class_matrices = []\n",
        "\n",
        "for i in range(40):\n",
        "    class_matrix = d3_train[i*5:(i+1)*5,:]\n",
        "    mean = np.mean(class_matrix, axis=0, keepdims=True)\n",
        "    means[i] = mean\n",
        "    class_matrices.append(class_matrix)\n",
        "\n",
        "overall_mean = np.mean(d3_train, axis=0, keepdims=True)\n",
        "\n",
        "nk = 5\n",
        "Sb = np.zeros((N, N))\n",
        "for i, mean in enumerate(means):\n",
        "    mean = mean.reshape(N, 1)\n",
        "    overall_mean = overall_mean.reshape(N, 1)\n",
        "    Sb += nk * np.dot((mean - overall_mean), (mean - overall_mean).T)\n",
        "\n",
        "# calculate center class matrics\n",
        "Zs = []\n",
        "for i in range(40):\n",
        "    Z = class_matrices[i] - means[i]\n",
        "    Zs.append(Z)\n",
        "\n",
        "Ss = np.zeros((N,N))\n",
        "print(Ss.shape)\n",
        "# calculate class scatter matrices\n",
        "\n",
        "for i in range(40):\n",
        "    Si = np.dot(Zs[i].T,Zs[i])\n",
        "    Ss +=Si\n",
        "Ss_inv = np.linalg.inv(Ss)\n",
        "w, v = np.linalg.eigh(np.dot(Ss_inv,Sb))\n",
        "\n",
        "# using 39 dominant eigen vectors\n",
        "# idx = w.argsort()[::-1][:39]\n",
        "w = w[::-1]\n",
        "v = v[:,::-1]\n",
        "\n",
        "v = v[:,:40]\n",
        "\n",
        "print(w.shape)\n",
        "print(v.shape)\n"
      ],
      "metadata": {
        "colab": {
          "base_uri": "https://localhost:8080/"
        },
        "id": "F1DD2CqleqLx",
        "outputId": "7f5ac1a6-85be-4060-fa8e-2e7d2b039dcc"
      },
      "execution_count": 34,
      "outputs": [
        {
          "output_type": "stream",
          "name": "stdout",
          "text": [
            "(10304, 10304)\n",
            "(10304,)\n",
            "(10304, 40)\n"
          ]
        }
      ]
    },
    {
      "cell_type": "code",
      "execution_count": 35,
      "metadata": {
        "colab": {
          "base_uri": "https://localhost:8080/"
        },
        "id": "JpPifL8e5Thy",
        "outputId": "6ef5541b-ccb3-4074-be1c-1f57ed1a546f"
      },
      "outputs": [
        {
          "output_type": "stream",
          "name": "stdout",
          "text": [
            "(280, 40)\n",
            "(120, 40)\n"
          ]
        },
        {
          "output_type": "execute_result",
          "data": {
            "text/plain": [
              "0.9583333333333334"
            ]
          },
          "metadata": {},
          "execution_count": 35
        }
      ],
      "source": [
        "def project(x, w):\n",
        "    x = np.asarray(x)\n",
        "    w = np.asarray(w)\n",
        "    \n",
        "    return np.dot(w,x.T).T\n",
        "# print(v.shape)\n",
        "d3_train_new_lda = project(d3_train,v.T)\n",
        "d3_test_new_lda = project(d3_test,v.T)\n",
        "print(d3_train_new_lda.shape)\n",
        "print(d3_test_new_lda.shape)\n",
        "\n",
        "accuracy = classify_knn(d3_train_new_lda.get(), y3_train.get(), d3_test_new_lda.get(), y3_test.get(), k=1)\n",
        "\n",
        "accuracy"
      ]
    }
  ],
  "metadata": {
    "kernelspec": {
      "display_name": "Python 3 (ipykernel)",
      "language": "python",
      "name": "python3"
    },
    "language_info": {
      "codemirror_mode": {
        "name": "ipython",
        "version": 3
      },
      "file_extension": ".py",
      "mimetype": "text/x-python",
      "name": "python",
      "nbconvert_exporter": "python",
      "pygments_lexer": "ipython3",
      "version": "3.8.13"
    },
    "vscode": {
      "interpreter": {
        "hash": "02a8a9cf15ed147647fe14553612a448dff68c01e45681e5fb22f182d64f1055"
      }
    },
    "colab": {
      "provenance": [],
      "collapsed_sections": [
        "M7P_iUhZ5Tht",
        "yKXLjmoz5Thx",
        "jLeSDpty5Thx",
        "ejhtVEuH5Thy",
        "H39DffgJ5Thy"
      ]
    },
    "accelerator": "GPU"
  },
  "nbformat": 4,
  "nbformat_minor": 0
}